{
 "cells": [
  {
   "cell_type": "markdown",
   "id": "09e15c9d-afe0-4ad6-befc-d758b37a09e4",
   "metadata": {},
   "source": [
    "# Admission Numbers\n",
    "\n",
    "- CSS/00099/022\n",
    "- CSS/00072/021"
   ]
  },
  {
   "cell_type": "code",
   "execution_count": 2,
   "id": "c5bc510e-1777-48fb-8501-4a67ba50d39a",
   "metadata": {},
   "outputs": [
    {
     "data": {
      "text/plain": [
       "array([ 1,  2,  3,  4,  5,  6,  7,  8,  9, 10])"
      ]
     },
     "execution_count": 2,
     "metadata": {},
     "output_type": "execute_result"
    }
   ],
   "source": [
    "import numpy as np\n",
    "import random\n",
    "stu_indexes= np.arange(1,11)\n",
    "stu_indexes\n"
   ]
  },
  {
   "cell_type": "code",
   "execution_count": 3,
   "id": "eaa1731f-27c2-41fe-bb89-0051c110080b",
   "metadata": {},
   "outputs": [
    {
     "name": "stdout",
     "output_type": "stream",
     "text": [
      "Student1:Marks [52 79 41 96 85]\n",
      "Student2:Marks [81 41 70 96 99]\n",
      "Student3:Marks [45 86 41 75 78]\n",
      "Student4:Marks [91 88 72 86 59]\n",
      "Student5:Marks [49 81 51 48 89]\n",
      "Student6:Marks [61 59 49 89 94]\n",
      "Student7:Marks [81 54 89 56 85]\n",
      "Student8:Marks [64 87 40 89 51]\n",
      "Student9:Marks [62 70 84 85 49]\n",
      "Student10:Marks [84 99 49 46 67]\n"
     ]
    }
   ],
   "source": [
    "stu_marks = np.random.randint(40,100,size=(10,5))\n",
    "for stu_index,stu_mark in zip(stu_indexes,stu_marks):\n",
    "    print(f\"Student{stu_index}:Marks {stu_mark}\")"
   ]
  },
  {
   "cell_type": "code",
   "execution_count": 4,
   "id": "475f4a1d-a805-4324-95a2-8c2cd12623e3",
   "metadata": {},
   "outputs": [
    {
     "name": "stdout",
     "output_type": "stream",
     "text": [
      "Student1:Total Marks = 353\n",
      "Student2:Total Marks = 387\n",
      "Student3:Total Marks = 325\n",
      "Student4:Total Marks = 396\n",
      "Student5:Total Marks = 318\n",
      "Student6:Total Marks = 352\n",
      "Student7:Total Marks = 365\n",
      "Student8:Total Marks = 331\n",
      "Student9:Total Marks = 350\n",
      "Student10:Total Marks = 345\n"
     ]
    }
   ],
   "source": [
    "#calculate total marks for each student\n",
    "total_marks =np.sum(stu_marks,axis=1)\n",
    "\n",
    "for stu_index,total_mark in zip(stu_indexes,total_marks):\n",
    "    print(f\"Student{stu_index}:Total Marks = {total_mark}\")\n",
    "    "
   ]
  },
  {
   "cell_type": "code",
   "execution_count": 6,
   "id": "835081cf-bb51-48bb-95d4-e8a4c597dbe2",
   "metadata": {},
   "outputs": [
    {
     "name": "stdout",
     "output_type": "stream",
     "text": [
      "\n",
      "Mean Marks for each STudent:\n",
      "Subject 1:Mean =67.00\n",
      "Subject 2:Mean =74.40\n",
      "Subject 3:Mean =58.60\n",
      "Subject 4:Mean =76.60\n",
      "Subject 5:Mean =75.60\n"
     ]
    }
   ],
   "source": [
    "#Compute and print mean marksfor each student\n",
    "mean_subject_marks = np.mean(stu_marks,axis=0)\n",
    "print(\"\\nMean Marks  for each STudent:\")\n",
    "for i, mean_mark in enumerate(mean_subject_marks,start=1):\n",
    "    print(f\"Subject {i}:Mean ={mean_mark:.2f}\")"
   ]
  },
  {
   "cell_type": "code",
   "execution_count": 19,
   "id": "03324e94-a407-4b3d-a275-da472f716708",
   "metadata": {},
   "outputs": [
    {
     "name": "stdout",
     "output_type": "stream",
     "text": [
      "\n",
      "Graduation units (Best 4) for each student\n",
      "Student 1: Best 4 Marks = [52 79 85 96], Total of Best 4 = 312\n",
      "Student 2: Best 4 Marks = [70 81 96 99], Total of Best 4 = 346\n",
      "Student 3: Best 4 Marks = [45 75 78 86], Total of Best 4 = 284\n",
      "Student 4: Best 4 Marks = [72 86 88 91], Total of Best 4 = 337\n",
      "Student 5: Best 4 Marks = [49 51 81 89], Total of Best 4 = 270\n",
      "Student 6: Best 4 Marks = [59 61 89 94], Total of Best 4 = 303\n",
      "Student 7: Best 4 Marks = [56 81 85 89], Total of Best 4 = 311\n",
      "Student 8: Best 4 Marks = [51 64 87 89], Total of Best 4 = 291\n",
      "Student 9: Best 4 Marks = [62 70 84 85], Total of Best 4 = 301\n",
      "Student 10: Best 4 Marks = [49 67 84 99], Total of Best 4 = 299\n"
     ]
    }
   ],
   "source": [
    "# Compiting graduation_units for each student(Best 4)\n",
    "graduation_units = np.sort(stu_marks, axis =1)[:,-4:]\n",
    "\n",
    "print(\"\\nGraduation units (Best 4) for each student\")\n",
    "for stu_index,units in zip(stu_indexes,graduation_units):\n",
    "    print(f\"Student {stu_index}: Best 4 Marks = {units}, Total of Best 4 = {np.sum(units)}\")"
   ]
  },
  {
   "cell_type": "code",
   "execution_count": null,
   "id": "c4bba09c-7b25-48f6-8378-84c802298e17",
   "metadata": {},
   "outputs": [],
   "source": []
  },
  {
   "cell_type": "code",
   "execution_count": null,
   "id": "b3c3c004-a056-4df3-be71-f5299cd5154c",
   "metadata": {},
   "outputs": [],
   "source": []
  },
  {
   "cell_type": "code",
   "execution_count": null,
   "id": "4d74aa27-2367-4bfb-b578-3827b312e6c4",
   "metadata": {},
   "outputs": [],
   "source": []
  }
 ],
 "metadata": {
  "kernelspec": {
   "display_name": "Python 3 (ipykernel)",
   "language": "python",
   "name": "python3"
  },
  "language_info": {
   "codemirror_mode": {
    "name": "ipython",
    "version": 3
   },
   "file_extension": ".py",
   "mimetype": "text/x-python",
   "name": "python",
   "nbconvert_exporter": "python",
   "pygments_lexer": "ipython3",
   "version": "3.12.4"
  }
 },
 "nbformat": 4,
 "nbformat_minor": 5
}
