{
 "cells": [
  {
   "cell_type": "code",
   "execution_count": null,
   "id": "1e0e364b",
   "metadata": {},
   "outputs": [],
   "source": [
    "class Rocket:\n",
    "    # Rocket simulates a rocket ship for a game,\n",
    "    #  or a physics simulation.\n",
    "    \n",
    "    def __init__(self, x, y):\n",
    "        # Each rocket has an (x,y) position.\n",
    "        self.x = x\n",
    "        self.y = y\n",
    "    def mult(self, w):\n",
    "        return self.x*self.y*w"
   ]
  },
  {
   "cell_type": "code",
   "execution_count": null,
   "id": "f628390c",
   "metadata": {},
   "outputs": [],
   "source": [
    "rocket1 = Rocket(2,3)\n",
    "rocket2 = Rocket(4,6)"
   ]
  },
  {
   "cell_type": "code",
   "execution_count": null,
   "id": "b9b2a637",
   "metadata": {},
   "outputs": [],
   "source": [
    "rocket3 = Rocket(5,8)"
   ]
  },
  {
   "cell_type": "code",
   "execution_count": null,
   "id": "65010fab",
   "metadata": {},
   "outputs": [],
   "source": [
    "rocket1.mult(w=4)\n",
    "rocket2.mult(w=4)"
   ]
  }
 ],
 "metadata": {
  "kernelspec": {
   "display_name": "Python 3 (ipykernel)",
   "language": "python",
   "name": "python3"
  },
  "language_info": {
   "codemirror_mode": {
    "name": "ipython",
    "version": 3
   },
   "file_extension": ".py",
   "mimetype": "text/x-python",
   "name": "python",
   "nbconvert_exporter": "python",
   "pygments_lexer": "ipython3",
   "version": "3.11.5"
  }
 },
 "nbformat": 4,
 "nbformat_minor": 5
}
