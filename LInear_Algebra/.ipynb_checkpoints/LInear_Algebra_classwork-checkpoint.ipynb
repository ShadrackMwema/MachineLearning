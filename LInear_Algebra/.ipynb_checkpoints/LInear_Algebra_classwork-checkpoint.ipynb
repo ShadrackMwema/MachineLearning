{
 "cells": [
  {
   "cell_type": "markdown",
   "id": "c430d5e3-4b94-4dd1-8e36-0998c41e4224",
   "metadata": {},
   "source": [
    "# Admission Numbers\n",
    "\n",
    "- CSS/00099/022\n",
    "- CSS/00072/021"
   ]
  },
  {
   "cell_type": "code",
   "execution_count": 79,
   "id": "3b779851-3585-4c18-ab56-ed6f293c3cdf",
   "metadata": {},
   "outputs": [],
   "source": [
    "import numpy as np\n",
    "from numpy import matrix\n"
   ]
  },
  {
   "cell_type": "code",
   "execution_count": 39,
   "id": "d120e11b-98e9-4cff-af9a-f5dd5bf3d6b9",
   "metadata": {},
   "outputs": [
    {
     "name": "stdout",
     "output_type": "stream",
     "text": [
      "[0 1 2 3 4 5]\n",
      "[ 0  2  4  6  8 10]\n"
     ]
    }
   ],
   "source": [
    "# vectors\n",
    "v1= np.arange(6)\n",
    "print(v1)\n",
    "v2= [4,5,6,7]\n",
    "mul = v1*2\n",
    "print(mul)"
   ]
  },
  {
   "cell_type": "code",
   "execution_count": 24,
   "id": "ed2f8da3-2915-45b6-9108-d44a7af3293d",
   "metadata": {},
   "outputs": [
    {
     "name": "stdout",
     "output_type": "stream",
     "text": [
      "[ 0  4  8 12 16 20]\n"
     ]
    }
   ],
   "source": [
    "add = mul*2\n",
    "print(add)"
   ]
  },
  {
   "cell_type": "code",
   "execution_count": 25,
   "id": "fa20b343-e348-482f-b7e6-6cbb584ccac2",
   "metadata": {},
   "outputs": [
    {
     "name": "stdout",
     "output_type": "stream",
     "text": [
      "[ 0  2  4  6  8 10]\n"
     ]
    }
   ],
   "source": [
    "add2= v1+v1\n",
    "print(add2)"
   ]
  },
  {
   "cell_type": "code",
   "execution_count": 59,
   "id": "798ba164-fc41-46c8-b131-bd46c9794e09",
   "metadata": {},
   "outputs": [
    {
     "name": "stdout",
     "output_type": "stream",
     "text": [
      "[[0 1 2]\n",
      " [3 4 5]]\n"
     ]
    }
   ],
   "source": [
    "# matrices\n",
    "m1=v1.reshape(2,3)\n",
    "print(mat)\n",
    "# matx = np.random.randint(40,100,size=(4,2))"
   ]
  },
  {
   "cell_type": "code",
   "execution_count": 55,
   "id": "297d938a-6ab7-4cc4-976a-331e06c703f4",
   "metadata": {},
   "outputs": [
    {
     "name": "stdout",
     "output_type": "stream",
     "text": [
      "[[ 0  2  4]\n",
      " [ 6  8 10]]\n"
     ]
    }
   ],
   "source": [
    "print(m1*2)"
   ]
  },
  {
   "cell_type": "code",
   "execution_count": 56,
   "id": "8cb07d33-dedb-4a5c-9526-66603125ad34",
   "metadata": {},
   "outputs": [
    {
     "name": "stdout",
     "output_type": "stream",
     "text": [
      "[[1 2 3]\n",
      " [4 5 6]]\n"
     ]
    }
   ],
   "source": [
    "print(m1+1)\n",
    "     "
   ]
  },
  {
   "cell_type": "code",
   "execution_count": 57,
   "id": "b3b13440-6c05-460d-80f8-e72dd0d9a514",
   "metadata": {},
   "outputs": [
    {
     "name": "stdout",
     "output_type": "stream",
     "text": [
      "[[ 0  1  4]\n",
      " [ 9 16 25]]\n"
     ]
    }
   ],
   "source": [
    "print(m1*m1)"
   ]
  },
  {
   "cell_type": "code",
   "execution_count": 58,
   "id": "0a4e5a6b-67bf-4b5d-bdda-afde750b6d27",
   "metadata": {},
   "outputs": [
    {
     "name": "stdout",
     "output_type": "stream",
     "text": [
      "(2, 3)\n"
     ]
    }
   ],
   "source": [
    "print(m1.shape)"
   ]
  },
  {
   "cell_type": "code",
   "execution_count": 63,
   "id": "bdc24b9e-78aa-4662-8dad-5b71137b70cc",
   "metadata": {},
   "outputs": [
    {
     "name": "stdout",
     "output_type": "stream",
     "text": [
      "[0 1 2],[[0 1 2]\n",
      " [3 4 5]]\n",
      "[[ 0  1  4]\n",
      " [ 0  4 10]]\n"
     ]
    }
   ],
   "source": [
    "vec1= np.arange(2)\n",
    "\n",
    "vec2= np.arange(3)\n",
    "#print(mat*vec1) #error can't broadcast\n",
    "\n",
    "print(f\"{vec2},{m1}\")\n",
    "print(m1*vec2)"
   ]
  },
  {
   "cell_type": "code",
   "execution_count": 72,
   "id": "38f85259-5981-40e9-991b-08c4ffac2938",
   "metadata": {},
   "outputs": [
    {
     "name": "stdout",
     "output_type": "stream",
     "text": [
      "[[0 1 2]\n",
      " [3 4 5]\n",
      " [6 7 8]]\n"
     ]
    }
   ],
   "source": [
    "\n",
    "m2= (np.arange(9)).reshape(3,3)\n",
    "m3= (np.arange(8)).reshape(2,4)\n",
    "print(m2)"
   ]
  },
  {
   "cell_type": "code",
   "execution_count": 94,
   "id": "3ee09684-4796-4c48-8403-54cdb705b04d",
   "metadata": {},
   "outputs": [
    {
     "data": {
      "text/plain": [
       "(3,)"
      ]
     },
     "execution_count": 94,
     "metadata": {},
     "output_type": "execute_result"
    }
   ],
   "source": [
    "#TRansposing\n",
    "\n",
    "v2=np.arange(3)\n",
    "v2.shape"
   ]
  },
  {
   "cell_type": "code",
   "execution_count": 108,
   "id": "0ee53a9f-a5ad-420c-9f04-22a74822f517",
   "metadata": {},
   "outputs": [
    {
     "name": "stdout",
     "output_type": "stream",
     "text": [
      "[[0]\n",
      " [1]\n",
      " [2]]\n"
     ]
    }
   ],
   "source": [
    "v3=matrix(v2) #convert v3 to a matrix\n",
    "m4=v3.T\n",
    "print(m4)"
   ]
  },
  {
   "cell_type": "code",
   "execution_count": 100,
   "id": "cd73b683-a72e-43b9-a67a-96f3fb5997ad",
   "metadata": {},
   "outputs": [
    {
     "data": {
      "text/plain": [
       "(3, 1)"
      ]
     },
     "execution_count": 100,
     "metadata": {},
     "output_type": "execute_result"
    }
   ],
   "source": [
    "m4.shape"
   ]
  },
  {
   "cell_type": "code",
   "execution_count": 109,
   "id": "96ec3329-7ae7-4420-8926-5539b952af9d",
   "metadata": {},
   "outputs": [
    {
     "data": {
      "text/plain": [
       "(2, 1)"
      ]
     },
     "execution_count": 109,
     "metadata": {},
     "output_type": "execute_result"
    }
   ],
   "source": [
    "v4 = np.arange(2)#convert  v4 to a matrix\n",
    "m5=matrix(v4).T\n",
    "m5.shape"
   ]
  },
  {
   "cell_type": "code",
   "execution_count": 112,
   "id": "46978284-b5fb-4fa3-ada3-25cd97ec5ea7",
   "metadata": {},
   "outputs": [
    {
     "name": "stdout",
     "output_type": "stream",
     "text": [
      "[[ 5]\n",
      " [14]\n",
      " [23]]\n"
     ]
    }
   ],
   "source": [
    "print(m2*m4)"
   ]
  },
  {
   "cell_type": "code",
   "execution_count": 120,
   "id": "66846464-c671-4250-bdfc-96d98ffd84dd",
   "metadata": {},
   "outputs": [
    {
     "name": "stdout",
     "output_type": "stream",
     "text": [
      "[[0 1 2]\n",
      " [3 4 5]]\n",
      "\n",
      "[[0]\n",
      " [1]\n",
      " [2]]\n",
      "\n",
      "[[ 5]\n",
      " [14]]\n"
     ]
    }
   ],
   "source": [
    "\n",
    "print(f\"{m1}\\n\")\n",
    "print(f\"{m4}\\n\")\n",
    "print(m1*m4)"
   ]
  },
  {
   "cell_type": "code",
   "execution_count": 125,
   "id": "f9b3d43c-1d17-46e3-9881-857807a5eecf",
   "metadata": {},
   "outputs": [
    {
     "name": "stdout",
     "output_type": "stream",
     "text": [
      "[[0]\n",
      " [1]]\n",
      "\n",
      "[[0 1 2]\n",
      " [3 4 5]]\n"
     ]
    },
    {
     "ename": "ValueError",
     "evalue": "shapes (2,1) and (2,3) not aligned: 1 (dim 1) != 2 (dim 0)",
     "output_type": "error",
     "traceback": [
      "\u001b[0;31m---------------------------------------------------------------------------\u001b[0m",
      "\u001b[0;31mValueError\u001b[0m                                Traceback (most recent call last)",
      "Cell \u001b[0;32mIn[125], line 3\u001b[0m\n\u001b[1;32m      1\u001b[0m \u001b[38;5;28mprint\u001b[39m(\u001b[38;5;124mf\u001b[39m\u001b[38;5;124m\"\u001b[39m\u001b[38;5;132;01m{\u001b[39;00mm5\u001b[38;5;132;01m}\u001b[39;00m\u001b[38;5;130;01m\\n\u001b[39;00m\u001b[38;5;124m\"\u001b[39m)\n\u001b[1;32m      2\u001b[0m \u001b[38;5;28mprint\u001b[39m(m1)\n\u001b[0;32m----> 3\u001b[0m \u001b[38;5;28mprint\u001b[39m(m5\u001b[38;5;241m*\u001b[39mm1)\n",
      "File \u001b[0;32m~/anaconda3/lib/python3.12/site-packages/numpy/matrixlib/defmatrix.py:219\u001b[0m, in \u001b[0;36mmatrix.__mul__\u001b[0;34m(self, other)\u001b[0m\n\u001b[1;32m    216\u001b[0m \u001b[38;5;28;01mdef\u001b[39;00m \u001b[38;5;21m__mul__\u001b[39m(\u001b[38;5;28mself\u001b[39m, other):\n\u001b[1;32m    217\u001b[0m     \u001b[38;5;28;01mif\u001b[39;00m \u001b[38;5;28misinstance\u001b[39m(other, (N\u001b[38;5;241m.\u001b[39mndarray, \u001b[38;5;28mlist\u001b[39m, \u001b[38;5;28mtuple\u001b[39m)) :\n\u001b[1;32m    218\u001b[0m         \u001b[38;5;66;03m# This promotes 1-D vectors to row vectors\u001b[39;00m\n\u001b[0;32m--> 219\u001b[0m         \u001b[38;5;28;01mreturn\u001b[39;00m N\u001b[38;5;241m.\u001b[39mdot(\u001b[38;5;28mself\u001b[39m, asmatrix(other))\n\u001b[1;32m    220\u001b[0m     \u001b[38;5;28;01mif\u001b[39;00m isscalar(other) \u001b[38;5;129;01mor\u001b[39;00m \u001b[38;5;129;01mnot\u001b[39;00m \u001b[38;5;28mhasattr\u001b[39m(other, \u001b[38;5;124m'\u001b[39m\u001b[38;5;124m__rmul__\u001b[39m\u001b[38;5;124m'\u001b[39m) :\n\u001b[1;32m    221\u001b[0m         \u001b[38;5;28;01mreturn\u001b[39;00m N\u001b[38;5;241m.\u001b[39mdot(\u001b[38;5;28mself\u001b[39m, other)\n",
      "\u001b[0;31mValueError\u001b[0m: shapes (2,1) and (2,3) not aligned: 1 (dim 1) != 2 (dim 0)"
     ]
    }
   ],
   "source": [
    "\n",
    "print(f\"{m5}\\n\")\n",
    "print(m1)\n",
    "print(m5*m1) #The number of coluns needs to match the number of rows"
   ]
  },
  {
   "cell_type": "code",
   "execution_count": 132,
   "id": "06ff777a-a7ca-461c-a142-74bc71fcdaf6",
   "metadata": {},
   "outputs": [
    {
     "name": "stdout",
     "output_type": "stream",
     "text": [
      "[[0 1]\n",
      " [2 3]]\n"
     ]
    },
    {
     "data": {
      "text/plain": [
       "matrix([[ 2,  3],\n",
       "        [ 6, 11]])"
      ]
     },
     "execution_count": 132,
     "metadata": {},
     "output_type": "execute_result"
    }
   ],
   "source": [
    "#Dot Product\n",
    "#Works with Square matrix\n",
    "\n",
    "m6=(matrix(np.arange(4).reshape(2,2)))\n",
    "print(m6)\n",
    "np.dot(m6,m6)\n"
   ]
  },
  {
   "cell_type": "code",
   "execution_count": 133,
   "id": "c49ad112-c304-4d98-a46e-954becfc90ca",
   "metadata": {},
   "outputs": [
    {
     "name": "stdout",
     "output_type": "stream",
     "text": [
      "[[ 2  3]\n",
      " [ 6 11]]\n"
     ]
    }
   ],
   "source": [
    "print (m6*m6)"
   ]
  },
  {
   "cell_type": "code",
   "execution_count": 137,
   "id": "cca265b8-e2dc-4baf-b07b-507f80177e6e",
   "metadata": {},
   "outputs": [
    {
     "name": "stdout",
     "output_type": "stream",
     "text": [
      "[[0 1 2]\n",
      " [3 4 5]]\n",
      "[[0 1]\n",
      " [2 3]\n",
      " [4 5]]\n"
     ]
    },
    {
     "data": {
      "text/plain": [
       "matrix([[10, 13],\n",
       "        [28, 40]])"
      ]
     },
     "execution_count": 137,
     "metadata": {},
     "output_type": "execute_result"
    }
   ],
   "source": [
    "print(m1)\n",
    "m7=(matrix(np.arange(6).reshape(3,2)))\n",
    "print(m7)\n",
    "np.dot(m1,m7)"
   ]
  },
  {
   "cell_type": "code",
   "execution_count": 142,
   "id": "b15c318d-078d-4fed-a12b-9bb5361a9a8a",
   "metadata": {},
   "outputs": [
    {
     "name": "stdout",
     "output_type": "stream",
     "text": [
      "[0 1 2]\n"
     ]
    },
    {
     "data": {
      "text/plain": [
       "5"
      ]
     },
     "execution_count": 142,
     "metadata": {},
     "output_type": "execute_result"
    }
   ],
   "source": [
    "v5=np.arange(3)\n",
    "print(v5)\n",
    "np.dot(v5,v5)"
   ]
  },
  {
   "cell_type": "code",
   "execution_count": 144,
   "id": "d81b44ae-5c47-480b-8161-76ee403dfd00",
   "metadata": {},
   "outputs": [
    {
     "data": {
      "text/plain": [
       "array([0, 1, 2, 3, 4, 5])"
      ]
     },
     "execution_count": 144,
     "metadata": {},
     "output_type": "execute_result"
    }
   ],
   "source": [
    "m1.ravel()"
   ]
  },
  {
   "cell_type": "code",
   "execution_count": 151,
   "id": "0452bb9e-e625-43da-b9ab-1f68313c8a31",
   "metadata": {},
   "outputs": [
    {
     "data": {
      "text/plain": [
       "array([[0, 1, 2],\n",
       "       [3, 4, 5]])"
      ]
     },
     "execution_count": 151,
     "metadata": {},
     "output_type": "execute_result"
    }
   ],
   "source": [
    "m1.reshape(2,3)"
   ]
  },
  {
   "cell_type": "code",
   "execution_count": 153,
   "id": "1683e50b-0ae6-4772-8bbb-7079f0aed917",
   "metadata": {
    "scrolled": true
   },
   "outputs": [
    {
     "data": {
      "text/plain": [
       "array([0, 1, 2, 3, 4, 5])"
      ]
     },
     "execution_count": 153,
     "metadata": {},
     "output_type": "execute_result"
    }
   ],
   "source": [
    "#Ravel"
   ]
  },
  {
   "cell_type": "code",
   "execution_count": 155,
   "id": "299ee984-5a19-4be2-ac29-dcb0e31c0902",
   "metadata": {},
   "outputs": [
    {
     "data": {
      "text/plain": [
       "array([0, 3, 1, 4, 2, 5])"
      ]
     },
     "execution_count": 155,
     "metadata": {},
     "output_type": "execute_result"
    }
   ],
   "source": [
    "m.T.ravel()"
   ]
  },
  {
   "cell_type": "code",
   "execution_count": 156,
   "id": "c4720abf-9a8e-414c-9898-784a429e0331",
   "metadata": {},
   "outputs": [],
   "source": [
    "#Repeat\n",
    "m8=(matrix(np.arange(4).reshape(2,2)))"
   ]
  },
  {
   "cell_type": "code",
   "execution_count": 159,
   "id": "30b5dc2a-fe9d-4965-91f2-72775f34652d",
   "metadata": {},
   "outputs": [
    {
     "data": {
      "text/plain": [
       "matrix([[0, 0, 1, 1, 2, 2, 3, 3]])"
      ]
     },
     "execution_count": 159,
     "metadata": {},
     "output_type": "execute_result"
    }
   ],
   "source": [
    "np.repeat(m8,2)"
   ]
  },
  {
   "cell_type": "code",
   "execution_count": 160,
   "id": "05e6493c-220b-4cd2-80b5-7f2e3ffe51d4",
   "metadata": {},
   "outputs": [
    {
     "data": {
      "text/plain": [
       "matrix([[0, 1, 0, 1],\n",
       "        [2, 3, 2, 3]])"
      ]
     },
     "execution_count": 160,
     "metadata": {},
     "output_type": "execute_result"
    }
   ],
   "source": [
    "#Tile\n",
    "np.tile(m8,2)"
   ]
  },
  {
   "cell_type": "code",
   "execution_count": 166,
   "id": "5e16a4ed-05f7-4745-8934-d547e1ab4883",
   "metadata": {},
   "outputs": [
    {
     "data": {
      "text/plain": [
       "matrix([[0, 1],\n",
       "        [2, 3],\n",
       "        [0, 1],\n",
       "        [2, 3]])"
      ]
     },
     "execution_count": 166,
     "metadata": {},
     "output_type": "execute_result"
    }
   ],
   "source": [
    "#Concatenation\n",
    "np.concatenate((m8,m8),axis=0)"
   ]
  },
  {
   "cell_type": "code",
   "execution_count": 167,
   "id": "74c08d0e-7b89-40c3-a3fa-081e722f198a",
   "metadata": {},
   "outputs": [
    {
     "data": {
      "text/plain": [
       "matrix([[0, 1, 0, 1],\n",
       "        [2, 3, 2, 3]])"
      ]
     },
     "execution_count": 167,
     "metadata": {},
     "output_type": "execute_result"
    }
   ],
   "source": [
    "np.concatenate((m8,m8),axis=1)"
   ]
  },
  {
   "cell_type": "code",
   "execution_count": null,
   "id": "c5c08732-489d-4b34-a1c6-975d487a2a45",
   "metadata": {},
   "outputs": [],
   "source": []
  },
  {
   "cell_type": "code",
   "execution_count": null,
   "id": "4a41826d-f487-4ed7-adb5-6c306f5de77f",
   "metadata": {},
   "outputs": [],
   "source": []
  }
 ],
 "metadata": {
  "kernelspec": {
   "display_name": "Python 3 (ipykernel)",
   "language": "python",
   "name": "python3"
  },
  "language_info": {
   "codemirror_mode": {
    "name": "ipython",
    "version": 3
   },
   "file_extension": ".py",
   "mimetype": "text/x-python",
   "name": "python",
   "nbconvert_exporter": "python",
   "pygments_lexer": "ipython3",
   "version": "3.12.4"
  }
 },
 "nbformat": 4,
 "nbformat_minor": 5
}
