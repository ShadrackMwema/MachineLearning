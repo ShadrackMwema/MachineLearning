{
 "cells": [
  {
   "cell_type": "code",
   "execution_count": null,
   "id": "bb48a817-d072-4334-9282-08297d01c8c9",
   "metadata": {},
   "outputs": [],
   "source": [
    "                               NAMES                  REG NO   \n",
    "                            ERICK ONDIWA           CCS/00072/021\n",
    "                            SHADRACK MUTINDA       CCS/00099/022\n",
    "\n",
    "                                    ASSIGNMENT2 SUBMISSION"
   ]
  },
  {
   "cell_type": "code",
   "execution_count": 53,
   "id": "90e7275a-5cdc-460b-b0c4-451ac7db5a5e",
   "metadata": {},
   "outputs": [
    {
     "name": "stdout",
     "output_type": "stream",
     "text": [
      "[ 1  2  3  4  5  6  7  8  9 10]\n"
     ]
    }
   ],
   "source": [
    "import numpy as np\n",
    "\n",
    "# Generate student indexes from 1 to 10\n",
    "stu_indexes = np.arange(1, 11)\n",
    "print(stu_indexes)\n"
   ]
  },
  {
   "cell_type": "code",
   "execution_count": 54,
   "id": "47e5fbd8-4b18-4f97-a416-ec124bf2ce2e",
   "metadata": {},
   "outputs": [
    {
     "name": "stdout",
     "output_type": "stream",
     "text": [
      "[[64 65 46 92 92]\n",
      " [84 41 48 86 53]\n",
      " [55 42 46 65 69]\n",
      " [72 92 45 76 42]\n",
      " [85 51 89 44 40]\n",
      " [72 61 93 86 87]\n",
      " [66 71 64 87 74]\n",
      " [92 50 41 54 95]\n",
      " [76 43 56 79 58]\n",
      " [65 67 64 41 46]]\n"
     ]
    }
   ],
   "source": [
    "# Generate random marks for 10 students in 5 subjects\n",
    "stu_marks = np.random.randint(40, 100, size=(10, 5))\n",
    "print(stu_marks)"
   ]
  },
  {
   "cell_type": "code",
   "execution_count": 55,
   "id": "b8ab01e9-7d55-4be0-8e6b-90de8e05676a",
   "metadata": {},
   "outputs": [
    {
     "name": "stdout",
     "output_type": "stream",
     "text": [
      "Student 1: Marks [64 65 46 92 92]\n",
      "Student 2: Marks [84 41 48 86 53]\n",
      "Student 3: Marks [55 42 46 65 69]\n",
      "Student 4: Marks [72 92 45 76 42]\n",
      "Student 5: Marks [85 51 89 44 40]\n",
      "Student 6: Marks [72 61 93 86 87]\n",
      "Student 7: Marks [66 71 64 87 74]\n",
      "Student 8: Marks [92 50 41 54 95]\n",
      "Student 9: Marks [76 43 56 79 58]\n",
      "Student 10: Marks [65 67 64 41 46]\n"
     ]
    }
   ],
   "source": [
    "# Print student indexes and their corresponding marks\n",
    "for stu_index, stu_mark in zip(stu_indexes, stu_marks):\n",
    "    print(f\"Student {stu_index}: Marks {stu_mark}\")"
   ]
  },
  {
   "cell_type": "code",
   "execution_count": 5,
   "id": "30334c15-46ea-41e6-9a1f-b9b031f44b5b",
   "metadata": {},
   "outputs": [
    {
     "name": "stdout",
     "output_type": "stream",
     "text": [
      "Student 1: Total Marks = 286\n",
      "Student 2: Total Marks = 372\n",
      "Student 3: Total Marks = 399\n",
      "Student 4: Total Marks = 402\n",
      "Student 5: Total Marks = 315\n",
      "Student 6: Total Marks = 362\n",
      "Student 7: Total Marks = 322\n",
      "Student 8: Total Marks = 345\n",
      "Student 9: Total Marks = 341\n",
      "Student 10: Total Marks = 378\n"
     ]
    }
   ],
   "source": [
    "# Calculate total marks for each student\n",
    "total_marks = np.sum(stu_marks, axis=1)\n",
    "\n",
    "# Print total marks for each student\n",
    "for stu_index, total_mark in zip(stu_indexes, total_marks):\n",
    "    print(f\"Student {stu_index}: Total Marks = {total_mark}\")"
   ]
  },
  {
   "cell_type": "code",
   "execution_count": 6,
   "id": "f9db2d9c-417d-4f5e-a6cf-dbf933bfe192",
   "metadata": {},
   "outputs": [
    {
     "name": "stdout",
     "output_type": "stream",
     "text": [
      "\n",
      "Mean marks for each subject:\n",
      "Subject 1: Mean = 73.80\n",
      "Subject 2: Mean = 76.10\n",
      "Subject 3: Mean = 65.50\n",
      "Subject 4: Mean = 70.90\n",
      "Subject 5: Mean = 65.90\n"
     ]
    }
   ],
   "source": [
    "# Compute and print the mean marks for each subject\n",
    "mean_subject_marks = np.mean(stu_marks, axis=0)\n",
    "print(\"\\nMean marks for each subject:\")\n",
    "for i, mean_mark in enumerate(mean_subject_marks, start=1):\n",
    "    print(f\"Subject {i}: Mean = {mean_mark:.2f}\")"
   ]
  },
  {
   "cell_type": "code",
   "execution_count": 7,
   "id": "000a4ba7-9ef8-4000-9b98-f4e981f8ae77",
   "metadata": {},
   "outputs": [
    {
     "name": "stdout",
     "output_type": "stream",
     "text": [
      "\n",
      "Graduation units (best 4 subjects) for each student:\n",
      "Student 1: Best 4 Marks = [46 48 61 88], Total of Best 4 = 243\n",
      "Student 2: Best 4 Marks = [71 74 80 93], Total of Best 4 = 318\n",
      "Student 3: Best 4 Marks = [75 86 90 93], Total of Best 4 = 344\n",
      "Student 4: Best 4 Marks = [76 80 83 89], Total of Best 4 = 328\n",
      "Student 5: Best 4 Marks = [49 70 75 79], Total of Best 4 = 273\n",
      "Student 6: Best 4 Marks = [51 84 91 91], Total of Best 4 = 317\n",
      "Student 7: Best 4 Marks = [52 65 74 81], Total of Best 4 = 272\n",
      "Student 8: Best 4 Marks = [59 69 74 99], Total of Best 4 = 301\n",
      "Student 9: Best 4 Marks = [58 60 81 93], Total of Best 4 = 292\n",
      "Student 10: Best 4 Marks = [59 88 91 93], Total of Best 4 = 331\n"
     ]
    }
   ],
   "source": [
    "# Compute graduation units for each student (best 4 subjects)\n",
    "graduation_units = np.sort(stu_marks, axis=1)[:, -4:]  # Get the best 4 marks\n",
    "print(\"\\nGraduation units (best 4 subjects) for each student:\")\n",
    "for stu_index, units in zip(stu_indexes, graduation_units):\n",
    "    print(f\"Student {stu_index}: Best 4 Marks = {units}, Total of Best 4 = {np.sum(units)}\")"
   ]
  },
  {
   "cell_type": "code",
   "execution_count": 56,
   "id": "b34a7906-f924-4400-b625-3c20007016db",
   "metadata": {},
   "outputs": [
    {
     "name": "stdout",
     "output_type": "stream",
     "text": [
      "\n",
      "Student Dictionary:\n",
      "{1: [64, 65, 46, 92, 92], 2: [84, 41, 48, 86, 53], 3: [55, 42, 46, 65, 69], 4: [72, 92, 45, 76, 42], 5: [85, 51, 89, 44, 40], 6: [72, 61, 93, 86, 87], 7: [66, 71, 64, 87, 74], 8: [92, 50, 41, 54, 95], 9: [76, 43, 56, 79, 58], 10: [65, 67, 64, 41, 46]}\n"
     ]
    }
   ],
   "source": [
    "#A dictionary of students with their corresponding marks per subject.\n",
    "stu_dict = {}\n",
    "for stu_index, stu_mark in zip(stu_indexes, stu_marks):\n",
    "    stu_dict[int(stu_index)] = stu_mark.tolist()  # Convert NumPy array to list for each student\n",
    "\n",
    "# Print the resulting dictionary\n",
    "print(\"\\nStudent Dictionary:\")\n",
    "print(stu_dict)"
   ]
  },
  {
   "cell_type": "code",
   "execution_count": 52,
   "id": "50c3ff90-a2b9-4682-9119-7aea842c0a7d",
   "metadata": {},
   "outputs": [
    {
     "name": "stdout",
     "output_type": "stream",
     "text": [
      "\n",
      "Marks corresponding to each subject:\n",
      "Subject 1: [43, 73, 49, 69, 78, 98, 84, 62, 92, 59]\n",
      "Subject 2: [67, 85, 54, 63, 81, 90, 55, 46, 64, 91]\n",
      "Subject 3: [84, 95, 46, 49, 55, 55, 91, 64, 60, 79]\n",
      "Subject 4: [49, 49, 64, 65, 46, 60, 66, 75, 68, 97]\n",
      "Subject 5: [51, 94, 58, 92, 58, 99, 47, 96, 80, 68]\n"
     ]
    }
   ],
   "source": [
    "# A dictionary of subjects with corresponding student marks\n",
    "subject_dict = {}\n",
    "\n",
    "# Loop over each subject (columns in the NumPy array)\n",
    "for subject_index in range(stu_marks.shape[1]):\n",
    "    subject_dict[f\"Subject {subject_index + 1}\"] = stu_marks[:, subject_index].tolist()\n",
    "\n",
    "# Print the subject-wise marks\n",
    "print(\"\\nMarks corresponding to each subject:\")\n",
    "for subject, marks in subject_dict.items():\n",
    "    print(f\"{subject}: {marks}\")"
   ]
  },
  {
   "cell_type": "code",
   "execution_count": null,
   "id": "8333037b-596e-4ce0-8085-14204806bc78",
   "metadata": {},
   "outputs": [],
   "source": []
  }
 ],
 "metadata": {
  "kernelspec": {
   "display_name": "Python 3 (ipykernel)",
   "language": "python",
   "name": "python3"
  },
  "language_info": {
   "codemirror_mode": {
    "name": "ipython",
    "version": 3
   },
   "file_extension": ".py",
   "mimetype": "text/x-python",
   "name": "python",
   "nbconvert_exporter": "python",
   "pygments_lexer": "ipython3",
   "version": "3.12.4"
  }
 },
 "nbformat": 4,
 "nbformat_minor": 5
}
