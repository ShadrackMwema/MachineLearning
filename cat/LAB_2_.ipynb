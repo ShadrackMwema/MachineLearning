{
 "cells": [
  {
   "cell_type": "markdown",
   "metadata": {},
   "source": [
    "# Admission Numbers\n",
    "\n",
    "- CSS/00099/022\n",
    "- CSS/00072/021"
   ]
  },
  {
   "cell_type": "code",
   "execution_count": 46,
   "metadata": {},
   "outputs": [],
   "source": [
    "import os, sys\n",
    "import numpy as np\n",
    "import pandas as pd\n",
    "import matplotlib.pyplot as plt"
   ]
  },
  {
   "cell_type": "markdown",
   "metadata": {},
   "source": [
    "# Lab 2\n",
    "These exercises focus on Pandas. Work through all exercises, searching for help when you need to (ie. frequently)."
   ]
  },
  {
   "cell_type": "code",
   "execution_count": 47,
   "metadata": {},
   "outputs": [],
   "source": [
    "import pandas as pd"
   ]
  },
  {
   "cell_type": "markdown",
   "metadata": {},
   "source": [
    "__EXERCISE 1: Pie shop__\n",
    "\n",
    "_Objective: Create and manipulate DataFrames_\n",
    "* Create a DataFrame with three columns: month, apple_pie_sales, blueberry_pie_sales\n",
    "* Summarize which products sold best\n",
    "* Create a new column to summarize revenues"
   ]
  },
  {
   "cell_type": "code",
   "execution_count": 48,
   "metadata": {},
   "outputs": [
    {
     "data": {
      "text/html": [
       "<div>\n",
       "<style scoped>\n",
       "    .dataframe tbody tr th:only-of-type {\n",
       "        vertical-align: middle;\n",
       "    }\n",
       "\n",
       "    .dataframe tbody tr th {\n",
       "        vertical-align: top;\n",
       "    }\n",
       "\n",
       "    .dataframe thead th {\n",
       "        text-align: right;\n",
       "    }\n",
       "</style>\n",
       "<table border=\"1\" class=\"dataframe\">\n",
       "  <thead>\n",
       "    <tr style=\"text-align: right;\">\n",
       "      <th></th>\n",
       "      <th>months</th>\n",
       "      <th>apple_pie_sales</th>\n",
       "      <th>blueberry_pie_sales</th>\n",
       "    </tr>\n",
       "  </thead>\n",
       "  <tbody>\n",
       "    <tr>\n",
       "      <th>0</th>\n",
       "      <td>Jan</td>\n",
       "      <td>34</td>\n",
       "      <td>18</td>\n",
       "    </tr>\n",
       "    <tr>\n",
       "      <th>1</th>\n",
       "      <td>Feb</td>\n",
       "      <td>19</td>\n",
       "      <td>6</td>\n",
       "    </tr>\n",
       "    <tr>\n",
       "      <th>2</th>\n",
       "      <td>Mar</td>\n",
       "      <td>28</td>\n",
       "      <td>15</td>\n",
       "    </tr>\n",
       "    <tr>\n",
       "      <th>3</th>\n",
       "      <td>Apr</td>\n",
       "      <td>45</td>\n",
       "      <td>51</td>\n",
       "    </tr>\n",
       "  </tbody>\n",
       "</table>\n",
       "</div>"
      ],
      "text/plain": [
       "  months  apple_pie_sales  blueberry_pie_sales\n",
       "0    Jan               34                   18\n",
       "1    Feb               19                    6\n",
       "2    Mar               28                   15\n",
       "3    Apr               45                   51"
      ]
     },
     "execution_count": 48,
     "metadata": {},
     "output_type": "execute_result"
    }
   ],
   "source": [
    "# YOUR CODE HERE: create the df using the data supplied\n",
    "\n",
    "sales_data = {'months' : ['Jan','Feb', 'Mar', 'Apr'],\n",
    "                'apple_pie_sales' : [34, 19, 28, 45],\n",
    "                'blueberry_pie_sales' : [18, 6, 15, 51]}\n",
    "\n",
    "sales_dataframe = pd.DataFrame(sales_data)\n",
    "sales_dataframe"
   ]
  },
  {
   "cell_type": "code",
   "execution_count": 49,
   "metadata": {},
   "outputs": [
    {
     "data": {
      "text/plain": [
       "90"
      ]
     },
     "execution_count": 49,
     "metadata": {},
     "output_type": "execute_result"
    }
   ],
   "source": [
    "# YOUR CODE HERE: calculate total sales of apple pies and total sales of blueberry pies\n",
    "total_apple_sales = np.sum(sales_dataframe['apple_pie_sales'])\n",
    "\n",
    "total_blueberry_sales = np.sum(sales_dataframe['blueberry_pie_sales'])\n",
    "total_blueberry_sales\n"
   ]
  },
  {
   "cell_type": "code",
   "execution_count": 50,
   "metadata": {},
   "outputs": [
    {
     "data": {
      "text/html": [
       "<div>\n",
       "<style scoped>\n",
       "    .dataframe tbody tr th:only-of-type {\n",
       "        vertical-align: middle;\n",
       "    }\n",
       "\n",
       "    .dataframe tbody tr th {\n",
       "        vertical-align: top;\n",
       "    }\n",
       "\n",
       "    .dataframe thead th {\n",
       "        text-align: right;\n",
       "    }\n",
       "</style>\n",
       "<table border=\"1\" class=\"dataframe\">\n",
       "  <thead>\n",
       "    <tr style=\"text-align: right;\">\n",
       "      <th></th>\n",
       "      <th>months</th>\n",
       "      <th>apple_pie_sales</th>\n",
       "      <th>blueberry_pie_sales</th>\n",
       "      <th>apple_pie_revenue</th>\n",
       "    </tr>\n",
       "  </thead>\n",
       "  <tbody>\n",
       "    <tr>\n",
       "      <th>0</th>\n",
       "      <td>Jan</td>\n",
       "      <td>34</td>\n",
       "      <td>18</td>\n",
       "      <td>408</td>\n",
       "    </tr>\n",
       "    <tr>\n",
       "      <th>1</th>\n",
       "      <td>Feb</td>\n",
       "      <td>19</td>\n",
       "      <td>6</td>\n",
       "      <td>228</td>\n",
       "    </tr>\n",
       "    <tr>\n",
       "      <th>2</th>\n",
       "      <td>Mar</td>\n",
       "      <td>28</td>\n",
       "      <td>15</td>\n",
       "      <td>336</td>\n",
       "    </tr>\n",
       "    <tr>\n",
       "      <th>3</th>\n",
       "      <td>Apr</td>\n",
       "      <td>45</td>\n",
       "      <td>51</td>\n",
       "      <td>540</td>\n",
       "    </tr>\n",
       "  </tbody>\n",
       "</table>\n",
       "</div>"
      ],
      "text/plain": [
       "  months  apple_pie_sales  blueberry_pie_sales  apple_pie_revenue\n",
       "0    Jan               34                   18                408\n",
       "1    Feb               19                    6                228\n",
       "2    Mar               28                   15                336\n",
       "3    Apr               45                   51                540"
      ]
     },
     "execution_count": 50,
     "metadata": {},
     "output_type": "execute_result"
    }
   ],
   "source": [
    "# YOUR CODE HERE: create a new columns entitled apple_pie_revenue and blueberry_pie_revenue\n",
    "\n",
    "# Hint: revenue = units sold * price. Use the prices below.\n",
    "apple_pie_price = 12\n",
    "blueberry_pie_price = 15\n",
    "apple_pie_revenue = sales_dataframe['apple_pie_sales'] * apple_pie_price\n",
    "sales_dataframe['apple_pie_revenue'] = apple_pie_revenue\n",
    "sales_dataframe"
   ]
  },
  {
   "cell_type": "code",
   "execution_count": 51,
   "metadata": {},
   "outputs": [
    {
     "data": {
      "text/html": [
       "<div>\n",
       "<style scoped>\n",
       "    .dataframe tbody tr th:only-of-type {\n",
       "        vertical-align: middle;\n",
       "    }\n",
       "\n",
       "    .dataframe tbody tr th {\n",
       "        vertical-align: top;\n",
       "    }\n",
       "\n",
       "    .dataframe thead th {\n",
       "        text-align: right;\n",
       "    }\n",
       "</style>\n",
       "<table border=\"1\" class=\"dataframe\">\n",
       "  <thead>\n",
       "    <tr style=\"text-align: right;\">\n",
       "      <th></th>\n",
       "      <th>months</th>\n",
       "      <th>apple_pie_sales</th>\n",
       "      <th>blueberry_pie_sales</th>\n",
       "      <th>apple_pie_revenue</th>\n",
       "      <th>blueberry_pie_revenue</th>\n",
       "    </tr>\n",
       "  </thead>\n",
       "  <tbody>\n",
       "    <tr>\n",
       "      <th>0</th>\n",
       "      <td>Jan</td>\n",
       "      <td>34</td>\n",
       "      <td>18</td>\n",
       "      <td>408</td>\n",
       "      <td>270</td>\n",
       "    </tr>\n",
       "    <tr>\n",
       "      <th>1</th>\n",
       "      <td>Feb</td>\n",
       "      <td>19</td>\n",
       "      <td>6</td>\n",
       "      <td>228</td>\n",
       "      <td>90</td>\n",
       "    </tr>\n",
       "    <tr>\n",
       "      <th>2</th>\n",
       "      <td>Mar</td>\n",
       "      <td>28</td>\n",
       "      <td>15</td>\n",
       "      <td>336</td>\n",
       "      <td>225</td>\n",
       "    </tr>\n",
       "    <tr>\n",
       "      <th>3</th>\n",
       "      <td>Apr</td>\n",
       "      <td>45</td>\n",
       "      <td>51</td>\n",
       "      <td>540</td>\n",
       "      <td>765</td>\n",
       "    </tr>\n",
       "  </tbody>\n",
       "</table>\n",
       "</div>"
      ],
      "text/plain": [
       "  months  apple_pie_sales  blueberry_pie_sales  apple_pie_revenue  \\\n",
       "0    Jan               34                   18                408   \n",
       "1    Feb               19                    6                228   \n",
       "2    Mar               28                   15                336   \n",
       "3    Apr               45                   51                540   \n",
       "\n",
       "   blueberry_pie_revenue  \n",
       "0                    270  \n",
       "1                     90  \n",
       "2                    225  \n",
       "3                    765  "
      ]
     },
     "execution_count": 51,
     "metadata": {},
     "output_type": "execute_result"
    }
   ],
   "source": [
    "blueberry_pie_price = 15\n",
    "blueberry_pie_revenue = sales_dataframe['blueberry_pie_sales'] * blueberry_pie_price\n",
    "sales_dataframe['blueberry_pie_revenue'] = blueberry_pie_revenue\n",
    "sales_dataframe"
   ]
  },
  {
   "cell_type": "code",
   "execution_count": 52,
   "metadata": {},
   "outputs": [
    {
     "data": {
      "image/png": "[encoded data removed]",
      "text/plain": [
       "<Figure size 640x480 with 1 Axes>"
      ]
     },
     "metadata": {},
     "output_type": "display_data"
    }
   ],
   "source": [
    "# BONUS: find a way to plot bar charts and pie charts (ha) of the shop's sales\n",
    "months = sales_dataframe['months']\n",
    "apple_sales =sales_dataframe['apple_pie_sales']\n",
    "blueberry_sales =sales_dataframe['blueberry_pie_sales']\n",
    "months\n",
    "\n",
    "plt.bar(months, apple_sales)\n",
    "plt.title('Monthly Apple Sales')\n",
    "plt.ylabel('Sales')\n",
    "plt.ylabel('Months')\n",
    "plt.xticks(months, rotation=45)\n",
    "plt.show()"
   ]
  },
  {
   "cell_type": "code",
   "execution_count": 53,
   "metadata": {},
   "outputs": [
    {
     "data": {
      "image/png": "[encoded data removed]",
      "text/plain": [
       "<Figure size 640x480 with 1 Axes>"
      ]
     },
     "metadata": {},
     "output_type": "display_data"
    }
   ],
   "source": [
    "months = sales_dataframe['months']\n",
    "apple_sales =sales_dataframe['apple_pie_sales']\n",
    "\n",
    "plt.pie(apple_sales, autopct='%1.1f%%', labels=months, startangle=140)\n",
    "plt.title('Monthly Apple Pie Sales')\n",
    "plt.show()"
   ]
  },
  {
   "cell_type": "code",
   "execution_count": 54,
   "metadata": {},
   "outputs": [
    {
     "data": {
      "image/png": "[encoded data removed]",
      "text/plain": [
       "<Figure size 640x480 with 1 Axes>"
      ]
     },
     "metadata": {},
     "output_type": "display_data"
    }
   ],
   "source": [
    "months = sales_dataframe['months']\n",
    "blueberry_sales =sales_dataframe['blueberry_pie_sales']\n",
    "\n",
    "plt.bar(months,blueberry_sales)\n",
    "plt.title('Monthly Distribution of Apple Pie Sales')\n",
    "plt.ylabel('Sales')\n",
    "plt.ylabel('Months')\n",
    "plt.xticks(months, rotation=45)\n",
    "plt.show()"
   ]
  },
  {
   "cell_type": "code",
   "execution_count": 55,
   "metadata": {},
   "outputs": [
    {
     "data": {
      "image/png": "[encoded data removed]",
      "text/plain": [
       "<Figure size 640x480 with 1 Axes>"
      ]
     },
     "metadata": {},
     "output_type": "display_data"
    }
   ],
   "source": [
    "months = sales_dataframe['months']\n",
    "blueberry_sales =sales_dataframe['blueberry_pie_sales']\n",
    "\n",
    "plt.pie(blueberry_sales, autopct='%1.1f%%', labels=months, startangle=140)\n",
    "plt.title('Monthly Distribution of Blueberry Pie Sales')\n",
    "plt.legend()\n",
    "plt.show()"
   ]
  },
  {
   "cell_type": "markdown",
   "metadata": {},
   "source": [
    "__EXERCISE 2: NYC housing__\n",
    "\n",
    "_Objective: clean and manipulate a real-world dataset_\n",
    "\n",
    "We are using the PLUTO (Primary Land Use Tax Lot Output) database, which lists every building in New York City.\n",
    "Source is [NYC Open Data Portal](https://www1.nyc.gov/site/planning/data-maps/open-data/dwn-pluto-mappluto.page). Check the [data dictionary](https://www1.nyc.gov/assets/planning/download/pdf/data-maps/open-data/pluto_datadictionary.pdf?r=18v2beta)."
   ]
  },
  {
   "cell_type": "code",
   "execution_count": 56,
   "metadata": {},
   "outputs": [
    {
     "name": "stderr",
     "output_type": "stream",
     "text": [
      "/tmp/ipykernel_9605/3945322138.py:2: DtypeWarning: Columns (18,19,21,23,78) have mixed types. Specify dtype option on import or set low_memory=False.\n",
      "  df = pd.read_csv(url)\n"
     ]
    }
   ],
   "source": [
    "url = 'pluto_shorter.csv'\n",
    "df = pd.read_csv(url)"
   ]
  },
  {
   "cell_type": "markdown",
   "metadata": {},
   "source": [
    "__Step 1: Inspect and prepare the dataset__"
   ]
  },
  {
   "cell_type": "code",
   "execution_count": 57,
   "metadata": {},
   "outputs": [
    {
     "data": {
      "text/html": [
       "<div>\n",
       "<style scoped>\n",
       "    .dataframe tbody tr th:only-of-type {\n",
       "        vertical-align: middle;\n",
       "    }\n",
       "\n",
       "    .dataframe tbody tr th {\n",
       "        vertical-align: top;\n",
       "    }\n",
       "\n",
       "    .dataframe thead th {\n",
       "        text-align: right;\n",
       "    }\n",
       "</style>\n",
       "<table border=\"1\" class=\"dataframe\">\n",
       "  <thead>\n",
       "    <tr style=\"text-align: right;\">\n",
       "      <th></th>\n",
       "      <th>Unnamed: 0</th>\n",
       "      <th>borough</th>\n",
       "      <th>block</th>\n",
       "      <th>lot</th>\n",
       "      <th>cd</th>\n",
       "      <th>ct2010</th>\n",
       "      <th>cb2010</th>\n",
       "      <th>schooldist</th>\n",
       "      <th>council</th>\n",
       "      <th>zipcode</th>\n",
       "      <th>...</th>\n",
       "      <th>firm07_flag</th>\n",
       "      <th>pfirm15_flag</th>\n",
       "      <th>rpaddate</th>\n",
       "      <th>dcasdate</th>\n",
       "      <th>zoningdate</th>\n",
       "      <th>landmkdate</th>\n",
       "      <th>basempdate</th>\n",
       "      <th>masdate</th>\n",
       "      <th>polidate</th>\n",
       "      <th>edesigdate</th>\n",
       "    </tr>\n",
       "  </thead>\n",
       "  <tbody>\n",
       "    <tr>\n",
       "      <th>0</th>\n",
       "      <td>0</td>\n",
       "      <td>BX</td>\n",
       "      <td>5641.0</td>\n",
       "      <td>670.0</td>\n",
       "      <td>210.0</td>\n",
       "      <td>516.00</td>\n",
       "      <td>2.0</td>\n",
       "      <td>NaN</td>\n",
       "      <td>13.0</td>\n",
       "      <td>NaN</td>\n",
       "      <td>...</td>\n",
       "      <td>1.0</td>\n",
       "      <td>1.0</td>\n",
       "      <td>12/6/2018</td>\n",
       "      <td>12/20/2018</td>\n",
       "      <td>12/21/2018</td>\n",
       "      <td>12/20/2018</td>\n",
       "      <td>12/21/2018</td>\n",
       "      <td>NaN</td>\n",
       "      <td>NaN</td>\n",
       "      <td>12/20/2018</td>\n",
       "    </tr>\n",
       "    <tr>\n",
       "      <th>1</th>\n",
       "      <td>20</td>\n",
       "      <td>QN</td>\n",
       "      <td>4671.0</td>\n",
       "      <td>39.0</td>\n",
       "      <td>407.0</td>\n",
       "      <td>1039.00</td>\n",
       "      <td>2011.0</td>\n",
       "      <td>25.0</td>\n",
       "      <td>19.0</td>\n",
       "      <td>11357.0</td>\n",
       "      <td>...</td>\n",
       "      <td>NaN</td>\n",
       "      <td>NaN</td>\n",
       "      <td>12/6/2018</td>\n",
       "      <td>12/20/2018</td>\n",
       "      <td>12/21/2018</td>\n",
       "      <td>12/20/2018</td>\n",
       "      <td>12/21/2018</td>\n",
       "      <td>NaN</td>\n",
       "      <td>NaN</td>\n",
       "      <td>12/20/2018</td>\n",
       "    </tr>\n",
       "    <tr>\n",
       "      <th>2</th>\n",
       "      <td>40</td>\n",
       "      <td>BK</td>\n",
       "      <td>3925.0</td>\n",
       "      <td>32.0</td>\n",
       "      <td>305.0</td>\n",
       "      <td>1172.02</td>\n",
       "      <td>2004.0</td>\n",
       "      <td>19.0</td>\n",
       "      <td>37.0</td>\n",
       "      <td>11208.0</td>\n",
       "      <td>...</td>\n",
       "      <td>NaN</td>\n",
       "      <td>NaN</td>\n",
       "      <td>12/6/2018</td>\n",
       "      <td>12/20/2018</td>\n",
       "      <td>12/21/2018</td>\n",
       "      <td>12/20/2018</td>\n",
       "      <td>12/21/2018</td>\n",
       "      <td>NaN</td>\n",
       "      <td>NaN</td>\n",
       "      <td>12/20/2018</td>\n",
       "    </tr>\n",
       "    <tr>\n",
       "      <th>3</th>\n",
       "      <td>60</td>\n",
       "      <td>MN</td>\n",
       "      <td>1836.0</td>\n",
       "      <td>19.0</td>\n",
       "      <td>107.0</td>\n",
       "      <td>189.00</td>\n",
       "      <td>2002.0</td>\n",
       "      <td>3.0</td>\n",
       "      <td>7.0</td>\n",
       "      <td>10025.0</td>\n",
       "      <td>...</td>\n",
       "      <td>NaN</td>\n",
       "      <td>NaN</td>\n",
       "      <td>12/6/2018</td>\n",
       "      <td>12/20/2018</td>\n",
       "      <td>12/21/2018</td>\n",
       "      <td>12/20/2018</td>\n",
       "      <td>12/21/2018</td>\n",
       "      <td>NaN</td>\n",
       "      <td>NaN</td>\n",
       "      <td>12/20/2018</td>\n",
       "    </tr>\n",
       "    <tr>\n",
       "      <th>4</th>\n",
       "      <td>80</td>\n",
       "      <td>QN</td>\n",
       "      <td>8898.0</td>\n",
       "      <td>16.0</td>\n",
       "      <td>409.0</td>\n",
       "      <td>4.00</td>\n",
       "      <td>2001.0</td>\n",
       "      <td>27.0</td>\n",
       "      <td>30.0</td>\n",
       "      <td>11421.0</td>\n",
       "      <td>...</td>\n",
       "      <td>NaN</td>\n",
       "      <td>NaN</td>\n",
       "      <td>12/6/2018</td>\n",
       "      <td>12/20/2018</td>\n",
       "      <td>12/21/2018</td>\n",
       "      <td>12/20/2018</td>\n",
       "      <td>12/21/2018</td>\n",
       "      <td>NaN</td>\n",
       "      <td>NaN</td>\n",
       "      <td>12/20/2018</td>\n",
       "    </tr>\n",
       "  </tbody>\n",
       "</table>\n",
       "<p>5 rows × 97 columns</p>\n",
       "</div>"
      ],
      "text/plain": [
       "   Unnamed: 0 borough   block    lot     cd   ct2010  cb2010  schooldist  \\\n",
       "0           0      BX  5641.0  670.0  210.0   516.00     2.0         NaN   \n",
       "1          20      QN  4671.0   39.0  407.0  1039.00  2011.0        25.0   \n",
       "2          40      BK  3925.0   32.0  305.0  1172.02  2004.0        19.0   \n",
       "3          60      MN  1836.0   19.0  107.0   189.00  2002.0         3.0   \n",
       "4          80      QN  8898.0   16.0  409.0     4.00  2001.0        27.0   \n",
       "\n",
       "   council  zipcode  ... firm07_flag  pfirm15_flag   rpaddate    dcasdate  \\\n",
       "0     13.0      NaN  ...         1.0           1.0  12/6/2018  12/20/2018   \n",
       "1     19.0  11357.0  ...         NaN           NaN  12/6/2018  12/20/2018   \n",
       "2     37.0  11208.0  ...         NaN           NaN  12/6/2018  12/20/2018   \n",
       "3      7.0  10025.0  ...         NaN           NaN  12/6/2018  12/20/2018   \n",
       "4     30.0  11421.0  ...         NaN           NaN  12/6/2018  12/20/2018   \n",
       "\n",
       "   zoningdate  landmkdate  basempdate masdate polidate  edesigdate  \n",
       "0  12/21/2018  12/20/2018  12/21/2018     NaN      NaN  12/20/2018  \n",
       "1  12/21/2018  12/20/2018  12/21/2018     NaN      NaN  12/20/2018  \n",
       "2  12/21/2018  12/20/2018  12/21/2018     NaN      NaN  12/20/2018  \n",
       "3  12/21/2018  12/20/2018  12/21/2018     NaN      NaN  12/20/2018  \n",
       "4  12/21/2018  12/20/2018  12/21/2018     NaN      NaN  12/20/2018  \n",
       "\n",
       "[5 rows x 97 columns]"
      ]
     },
     "execution_count": 57,
     "metadata": {},
     "output_type": "execute_result"
    }
   ],
   "source": [
    "# Use df.head() to see the first five rows. A bit messy, no?\n",
    "df.head()"
   ]
  },
  {
   "cell_type": "code",
   "execution_count": 58,
   "metadata": {},
   "outputs": [
    {
     "data": {
      "text/plain": [
       "Index(['Unnamed: 0', 'borough', 'block', 'lot', 'cd', 'ct2010', 'cb2010',\n",
       "       'schooldist', 'council', 'zipcode', 'firecomp', 'policeprct',\n",
       "       'healtharea', 'sanitboro', 'sanitsub', 'address', 'zonedist1',\n",
       "       'zonedist2', 'zonedist3', 'zonedist4', 'overlay1', 'overlay2',\n",
       "       'spdist1', 'spdist2', 'spdist3', 'ltdheight', 'splitzone', 'bldgclass',\n",
       "       'landuse', 'easements', 'ownertype', 'ownername', 'lotarea', 'bldgarea',\n",
       "       'comarea', 'resarea', 'officearea', 'retailarea', 'garagearea',\n",
       "       'strgearea', 'factryarea', 'otherarea', 'areasource', 'numbldgs',\n",
       "       'numfloors', 'unitsres', 'unitstotal', 'lotfront', 'lotdepth',\n",
       "       'bldgfront', 'bldgdepth', 'ext', 'proxcode', 'irrlotcode', 'lottype',\n",
       "       'bsmtcode', 'assessland', 'assesstot', 'exemptland', 'exempttot',\n",
       "       'yearbuilt', 'yearalter1', 'yearalter2', 'histdist', 'landmark',\n",
       "       'builtfar', 'residfar', 'commfar', 'facilfar', 'borocode', 'bbl',\n",
       "       'condono', 'tract2010', 'xcoord', 'ycoord', 'zonemap', 'zmcode',\n",
       "       'sanborn', 'taxmap', 'edesignum', 'appbbl', 'appdate', 'mappluto_f',\n",
       "       'plutomapid', 'version', 'sanitdistrict', 'healthcenterdistrict',\n",
       "       'firm07_flag', 'pfirm15_flag', 'rpaddate', 'dcasdate', 'zoningdate',\n",
       "       'landmkdate', 'basempdate', 'masdate', 'polidate', 'edesigdate'],\n",
       "      dtype='object')"
      ]
     },
     "execution_count": 58,
     "metadata": {},
     "output_type": "execute_result"
    }
   ],
   "source": [
    "# We'll select some columns to keep\n",
    "df.columns"
   ]
  },
  {
   "cell_type": "code",
   "execution_count": 59,
   "metadata": {},
   "outputs": [],
   "source": [
    "# Note how this syntax works. You could add extra columns that interest you.\n",
    "my_cols = ['borough','numfloors','yearbuilt', 'landuse', 'zipcode', 'assesstot', 'xcoord','ycoord']\n",
    "df = df[my_cols]"
   ]
  },
  {
   "cell_type": "code",
   "execution_count": 60,
   "metadata": {},
   "outputs": [
    {
     "data": {
      "text/html": [
       "<div>\n",
       "<style scoped>\n",
       "    .dataframe tbody tr th:only-of-type {\n",
       "        vertical-align: middle;\n",
       "    }\n",
       "\n",
       "    .dataframe tbody tr th {\n",
       "        vertical-align: top;\n",
       "    }\n",
       "\n",
       "    .dataframe thead th {\n",
       "        text-align: right;\n",
       "    }\n",
       "</style>\n",
       "<table border=\"1\" class=\"dataframe\">\n",
       "  <thead>\n",
       "    <tr style=\"text-align: right;\">\n",
       "      <th></th>\n",
       "      <th>borough</th>\n",
       "      <th>numfloors</th>\n",
       "      <th>yearbuilt</th>\n",
       "      <th>landuse</th>\n",
       "      <th>zipcode</th>\n",
       "      <th>assesstot</th>\n",
       "      <th>xcoord</th>\n",
       "      <th>ycoord</th>\n",
       "    </tr>\n",
       "  </thead>\n",
       "  <tbody>\n",
       "    <tr>\n",
       "      <th>0</th>\n",
       "      <td>BX</td>\n",
       "      <td>0.00</td>\n",
       "      <td>0.0</td>\n",
       "      <td>7.0</td>\n",
       "      <td>NaN</td>\n",
       "      <td>59400.0</td>\n",
       "      <td>1044510.0</td>\n",
       "      <td>246734.0</td>\n",
       "    </tr>\n",
       "    <tr>\n",
       "      <th>1</th>\n",
       "      <td>QN</td>\n",
       "      <td>2.50</td>\n",
       "      <td>1925.0</td>\n",
       "      <td>1.0</td>\n",
       "      <td>11357.0</td>\n",
       "      <td>29738.0</td>\n",
       "      <td>1035479.0</td>\n",
       "      <td>223657.0</td>\n",
       "    </tr>\n",
       "    <tr>\n",
       "      <th>2</th>\n",
       "      <td>BK</td>\n",
       "      <td>2.75</td>\n",
       "      <td>1920.0</td>\n",
       "      <td>1.0</td>\n",
       "      <td>11208.0</td>\n",
       "      <td>27370.0</td>\n",
       "      <td>1015989.0</td>\n",
       "      <td>187871.0</td>\n",
       "    </tr>\n",
       "    <tr>\n",
       "      <th>3</th>\n",
       "      <td>MN</td>\n",
       "      <td>6.00</td>\n",
       "      <td>1900.0</td>\n",
       "      <td>2.0</td>\n",
       "      <td>10025.0</td>\n",
       "      <td>510300.0</td>\n",
       "      <td>994273.0</td>\n",
       "      <td>228915.0</td>\n",
       "    </tr>\n",
       "    <tr>\n",
       "      <th>4</th>\n",
       "      <td>QN</td>\n",
       "      <td>2.00</td>\n",
       "      <td>1901.0</td>\n",
       "      <td>1.0</td>\n",
       "      <td>11421.0</td>\n",
       "      <td>29020.0</td>\n",
       "      <td>1021269.0</td>\n",
       "      <td>190793.0</td>\n",
       "    </tr>\n",
       "  </tbody>\n",
       "</table>\n",
       "</div>"
      ],
      "text/plain": [
       "  borough  numfloors  yearbuilt  landuse  zipcode  assesstot     xcoord  \\\n",
       "0      BX       0.00        0.0      7.0      NaN    59400.0  1044510.0   \n",
       "1      QN       2.50     1925.0      1.0  11357.0    29738.0  1035479.0   \n",
       "2      BK       2.75     1920.0      1.0  11208.0    27370.0  1015989.0   \n",
       "3      MN       6.00     1900.0      2.0  10025.0   510300.0   994273.0   \n",
       "4      QN       2.00     1901.0      1.0  11421.0    29020.0  1021269.0   \n",
       "\n",
       "     ycoord  \n",
       "0  246734.0  \n",
       "1  223657.0  \n",
       "2  187871.0  \n",
       "3  228915.0  \n",
       "4  190793.0  "
      ]
     },
     "execution_count": 60,
     "metadata": {},
     "output_type": "execute_result"
    }
   ],
   "source": [
    "# Cleaner now, right?\n",
    "df.head()"
   ]
  },
  {
   "cell_type": "code",
   "execution_count": 61,
   "metadata": {},
   "outputs": [],
   "source": [
    "# Here is the key that translates NYC's land use codes into plain English (p. 17 of the data dictionary)\n",
    "# We'll use the df.map() method to replace the numbers with text we can understand\n",
    "\n",
    "# BONUS POINTS: repeat this step to substitute the short borough names (eg. MN) with the actual\n",
    "# full borough names (eg. MN becomes Manhattan).\n",
    "\n",
    "land_use_dict = {1: 'One & Two Family Buildings',\n",
    "                2: 'Multi-Family Walk-Up Buildings',\n",
    "                3: 'Multi-Family Elevator Buildings',\n",
    "                4: 'Mixed Residential & Commercial Buildings',\n",
    "                5: 'Commercial & Office Buildings',\n",
    "                6: 'Industrial & Manufacturing',\n",
    "                7: 'Transportation & Utility',\n",
    "                8: 'Public Facilities & Institutions',\n",
    "                9: 'Open Space & Outdoor Recreation',\n",
    "                10: 'Parking Facilities',\n",
    "                11: 'Vacant Land'}\n",
    "\n",
    "df['landuse'] = df['landuse'].map(land_use_dict)"
   ]
  },
  {
   "cell_type": "code",
   "execution_count": 62,
   "metadata": {},
   "outputs": [],
   "source": [
    "borough_dict = {\n",
    "    'BX': 'Bronx',\n",
    "    'QN': 'Queens',\n",
    "    'BK': 'Brooklyn',\n",
    "    'MN': 'Manhattan',\n",
    "    'SI': 'Staten Island'\n",
    "}\n",
    "df['borough'] = df['borough'].map(borough_dict)"
   ]
  },
  {
   "cell_type": "code",
   "execution_count": 63,
   "metadata": {},
   "outputs": [
    {
     "data": {
      "text/html": [
       "<div>\n",
       "<style scoped>\n",
       "    .dataframe tbody tr th:only-of-type {\n",
       "        vertical-align: middle;\n",
       "    }\n",
       "\n",
       "    .dataframe tbody tr th {\n",
       "        vertical-align: top;\n",
       "    }\n",
       "\n",
       "    .dataframe thead th {\n",
       "        text-align: right;\n",
       "    }\n",
       "</style>\n",
       "<table border=\"1\" class=\"dataframe\">\n",
       "  <thead>\n",
       "    <tr style=\"text-align: right;\">\n",
       "      <th></th>\n",
       "      <th>borough</th>\n",
       "      <th>numfloors</th>\n",
       "      <th>yearbuilt</th>\n",
       "      <th>landuse</th>\n",
       "      <th>zipcode</th>\n",
       "      <th>assesstot</th>\n",
       "      <th>xcoord</th>\n",
       "      <th>ycoord</th>\n",
       "    </tr>\n",
       "  </thead>\n",
       "  <tbody>\n",
       "    <tr>\n",
       "      <th>0</th>\n",
       "      <td>Bronx</td>\n",
       "      <td>0.00</td>\n",
       "      <td>0.0</td>\n",
       "      <td>Transportation &amp; Utility</td>\n",
       "      <td>NaN</td>\n",
       "      <td>59400.0</td>\n",
       "      <td>1044510.0</td>\n",
       "      <td>246734.0</td>\n",
       "    </tr>\n",
       "    <tr>\n",
       "      <th>1</th>\n",
       "      <td>Queens</td>\n",
       "      <td>2.50</td>\n",
       "      <td>1925.0</td>\n",
       "      <td>One &amp; Two Family Buildings</td>\n",
       "      <td>11357.0</td>\n",
       "      <td>29738.0</td>\n",
       "      <td>1035479.0</td>\n",
       "      <td>223657.0</td>\n",
       "    </tr>\n",
       "    <tr>\n",
       "      <th>2</th>\n",
       "      <td>Brooklyn</td>\n",
       "      <td>2.75</td>\n",
       "      <td>1920.0</td>\n",
       "      <td>One &amp; Two Family Buildings</td>\n",
       "      <td>11208.0</td>\n",
       "      <td>27370.0</td>\n",
       "      <td>1015989.0</td>\n",
       "      <td>187871.0</td>\n",
       "    </tr>\n",
       "    <tr>\n",
       "      <th>3</th>\n",
       "      <td>Manhattan</td>\n",
       "      <td>6.00</td>\n",
       "      <td>1900.0</td>\n",
       "      <td>Multi-Family Walk-Up Buildings</td>\n",
       "      <td>10025.0</td>\n",
       "      <td>510300.0</td>\n",
       "      <td>994273.0</td>\n",
       "      <td>228915.0</td>\n",
       "    </tr>\n",
       "    <tr>\n",
       "      <th>4</th>\n",
       "      <td>Queens</td>\n",
       "      <td>2.00</td>\n",
       "      <td>1901.0</td>\n",
       "      <td>One &amp; Two Family Buildings</td>\n",
       "      <td>11421.0</td>\n",
       "      <td>29020.0</td>\n",
       "      <td>1021269.0</td>\n",
       "      <td>190793.0</td>\n",
       "    </tr>\n",
       "  </tbody>\n",
       "</table>\n",
       "</div>"
      ],
      "text/plain": [
       "     borough  numfloors  yearbuilt                         landuse  zipcode  \\\n",
       "0      Bronx       0.00        0.0        Transportation & Utility      NaN   \n",
       "1     Queens       2.50     1925.0      One & Two Family Buildings  11357.0   \n",
       "2   Brooklyn       2.75     1920.0      One & Two Family Buildings  11208.0   \n",
       "3  Manhattan       6.00     1900.0  Multi-Family Walk-Up Buildings  10025.0   \n",
       "4     Queens       2.00     1901.0      One & Two Family Buildings  11421.0   \n",
       "\n",
       "   assesstot     xcoord    ycoord  \n",
       "0    59400.0  1044510.0  246734.0  \n",
       "1    29738.0  1035479.0  223657.0  \n",
       "2    27370.0  1015989.0  187871.0  \n",
       "3   510300.0   994273.0  228915.0  \n",
       "4    29020.0  1021269.0  190793.0  "
      ]
     },
     "execution_count": 63,
     "metadata": {},
     "output_type": "execute_result"
    }
   ],
   "source": [
    "# Cleaner now, right? Add any more data cleaning steps of your choice.\n",
    "\n",
    "df.head()"
   ]
  },
  {
   "cell_type": "markdown",
   "metadata": {},
   "source": [
    "__Step 2: Summarize data using mean(), min/max(), describe() etc.__\n",
    "* Find out the average price of a building in Manhattan (MN) compared with Queens (QN)\n",
    "* What was the most expensive building built in the year you were born?\n",
    "* Compare average building\n",
    "\n",
    "BONUS: find the average price for buildings in Brooklyn with 5-10 floors built between 2000-2010. Do the same for buildings in Manhattan and Queens with those characteristics."
   ]
  },
  {
   "cell_type": "code",
   "execution_count": 64,
   "metadata": {},
   "outputs": [
    {
     "name": "stdout",
     "output_type": "stream",
     "text": [
      "Data Summary:\n",
      "          numfloors     yearbuilt       zipcode     assesstot        xcoord  \\\n",
      "count  42920.000000  42930.000000  41900.000000  4.293000e+04  4.289800e+04   \n",
      "mean       2.318661   1840.345399  11014.136444  4.399900e+05  1.005958e+06   \n",
      "std        1.892977    431.111239    469.809609  5.283664e+06  3.260085e+04   \n",
      "min        0.000000      0.000000  10001.000000  0.000000e+00  9.137740e+05   \n",
      "25%        2.000000   1920.000000  10466.000000  2.370025e+04  9.893450e+05   \n",
      "50%        2.000000   1930.000000  11221.000000  3.122700e+04  1.008877e+06   \n",
      "75%        2.500000   1955.000000  11369.000000  4.794000e+04  1.028986e+06   \n",
      "max       58.000000   2019.000000  11694.000000  4.954896e+08  1.067207e+06   \n",
      "\n",
      "              ycoord  \n",
      "count   42898.000000  \n",
      "mean   191440.718751  \n",
      "std     30780.209743  \n",
      "min    121045.000000  \n",
      "25%    168031.000000  \n",
      "50%    189204.500000  \n",
      "75%    211083.750000  \n",
      "max    271831.000000  \n"
     ]
    }
   ],
   "source": [
    "# YOUR CODE HERE:\n",
    "# YOUR CODE HERE:\n",
    "\n",
    "# Summarize data\n",
    "summary = df.describe()\n",
    "print(\"Data Summary:\")\n",
    "print(summary)\n",
    "\n",
    "\n",
    "\n"
   ]
  },
  {
   "cell_type": "code",
   "execution_count": 65,
   "metadata": {},
   "outputs": [
    {
     "name": "stdout",
     "output_type": "stream",
     "text": [
      "\n",
      "Average price of a building in Manhattan: 5361806.129417164\n",
      "Average price of a building in Queens: 161665.81471389646\n",
      "\n",
      "Most expensive building built in 2003: 25343553.0\n"
     ]
    }
   ],
   "source": [
    "# Average price of buildings in Manhattan and Queens\n",
    "avg_price_manhattan = df[df['borough'] == 'Manhattan']['assesstot'].mean()\n",
    "avg_price_queens = df[df['borough'] == 'Queens']['assesstot'].mean()\n",
    "\n",
    "print(\"\\nAverage price of a building in Manhattan:\", avg_price_manhattan)\n",
    "print(\"Average price of a building in Queens:\", avg_price_queens)\n",
    "\n",
    "#most expensive building built in the year you were born?\n",
    "year_of_birth = 2003\n",
    "most_expensive_building = df[df['yearbuilt'] == year_of_birth]['assesstot'].max()\n",
    "\n",
    "print(f\"\\nMost expensive building built in {year_of_birth}:\", most_expensive_building)"
   ]
  },
  {
   "cell_type": "code",
   "execution_count": 66,
   "metadata": {},
   "outputs": [
    {
     "name": "stdout",
     "output_type": "stream",
     "text": [
      "\n",
      "Average price for buildings in Brooklyn with 5-10 floors built between 2000-2010: 2225754.603448276\n",
      "Average price for buildings in Manhattan with 5-10 floors built between 2000-2010: 4267863.0869565215\n",
      "Average price for buildings in Queens with 5-10 floors built between 2000-2010: 2035399.652173913\n"
     ]
    }
   ],
   "source": [
    "#Compare average prices of buildings\n",
    "\n",
    "# Brooklyn with 5-10 floors, built between 2000-2010\n",
    "brooklyn_avg = df[(df['borough'] == 'Brooklyn') & \n",
    "                  (df['numfloors'] >= 5) & \n",
    "                  (df['numfloors'] <= 10) & \n",
    "                  (df['yearbuilt'] >= 2000) & \n",
    "                  (df['yearbuilt'] <= 2010)]['assesstot'].mean()\n",
    "\n",
    "# Manhattan with 5-10 floors, built between 2000-2010\n",
    "manhattan_avg = df[(df['borough'] == 'Manhattan') & \n",
    "                   (df['numfloors'] >= 5) & \n",
    "                   (df['numfloors'] <= 10) & \n",
    "                   (df['yearbuilt'] >= 2000) & \n",
    "                   (df['yearbuilt'] <= 2010)]['assesstot'].mean()\n",
    "\n",
    "# Queens with 5-10 floors, built between 2000-2010\n",
    "queens_avg = df[(df['borough'] == 'Queens') & \n",
    "                (df['numfloors'] >= 5) & \n",
    "                (df['numfloors'] <= 10) & \n",
    "                (df['yearbuilt'] >= 2000) & \n",
    "                (df['yearbuilt'] <= 2010)]['assesstot'].mean()\n",
    "\n",
    "print(\"\\nAverage price for buildings in Brooklyn with 5-10 floors built between 2000-2010:\", brooklyn_avg)\n",
    "print(\"Average price for buildings in Manhattan with 5-10 floors built between 2000-2010:\", manhattan_avg)\n",
    "print(\"Average price for buildings in Queens with 5-10 floors built between 2000-2010:\", queens_avg)"
   ]
  },
  {
   "cell_type": "markdown",
   "metadata": {},
   "source": [
    "__Step 3: Exploratory visualization using Pandas plotting__"
   ]
  },
  {
   "cell_type": "code",
   "execution_count": 67,
   "metadata": {},
   "outputs": [
    {
     "data": {
      "text/plain": [
       "landuse\n",
       "One & Two Family Buildings                  28259\n",
       "Multi-Family Walk-Up Buildings               6408\n",
       "Mixed Residential & Commercial Buildings     2813\n",
       "Vacant Land                                  1358\n",
       "Commercial & Office Buildings                1060\n",
       "Multi-Family Elevator Buildings               639\n",
       "Public Facilities & Institutions              633\n",
       "Industrial & Manufacturing                    544\n",
       "Parking Facilities                            520\n",
       "Transportation & Utility                      351\n",
       "Open Space & Outdoor Recreation               231\n",
       "Name: count, dtype: int64"
      ]
     },
     "execution_count": 67,
     "metadata": {},
     "output_type": "execute_result"
    }
   ],
   "source": [
    "# Try using the function pandas.Series.value_counts\n",
    "# It returns the unique count of values in a column\n",
    "# BONUS: Could you produce this output only for Brooklyn?\n",
    "\n",
    "df.landuse.value_counts()"
   ]
  },
  {
   "cell_type": "code",
   "execution_count": 68,
   "metadata": {},
   "outputs": [
    {
     "name": "stdout",
     "output_type": "stream",
     "text": [
      "Land Use Counts for All Boroughs:\n",
      "landuse\n",
      "One & Two Family Buildings                  28259\n",
      "Multi-Family Walk-Up Buildings               6408\n",
      "Mixed Residential & Commercial Buildings     2813\n",
      "Vacant Land                                  1358\n",
      "Commercial & Office Buildings                1060\n",
      "Multi-Family Elevator Buildings               639\n",
      "Public Facilities & Institutions              633\n",
      "Industrial & Manufacturing                    544\n",
      "Parking Facilities                            520\n",
      "Transportation & Utility                      351\n",
      "Open Space & Outdoor Recreation               231\n",
      "Name: count, dtype: int64\n",
      "\n",
      "Land Use Counts for Brooklyn:\n",
      "landuse\n",
      "One & Two Family Buildings                  7899\n",
      "Multi-Family Walk-Up Buildings              3192\n",
      "Mixed Residential & Commercial Buildings    1270\n",
      "Vacant Land                                  292\n",
      "Commercial & Office Buildings                277\n",
      "Industrial & Manufacturing                   216\n",
      "Public Facilities & Institutions             202\n",
      "Multi-Family Elevator Buildings              176\n",
      "Parking Facilities                           175\n",
      "Transportation & Utility                      93\n",
      "Open Space & Outdoor Recreation               40\n",
      "Name: count, dtype: int64\n"
     ]
    }
   ],
   "source": [
    "# Count all unique values in 'landuse' column across all boroughs\n",
    "landuse_counts_all = df['landuse'].value_counts()\n",
    "print(\"Land Use Counts for All Boroughs:\")\n",
    "print(landuse_counts_all)\n",
    "\n",
    "# Count for unique values in 'landuse' column only for Brooklyn\n",
    "landuse_counts_brooklyn = df[df['borough'] == 'Brooklyn']['landuse'].value_counts()\n",
    "print(\"\\nLand Use Counts for Brooklyn:\")\n",
    "print(landuse_counts_brooklyn)"
   ]
  },
  {
   "cell_type": "markdown",
   "metadata": {},
   "source": [
    "__YOUR ACTION__: Look up the [pandas.Series.plot](https://pandas.pydata.org/pandas-docs/stable/reference/api/pandas.Series.plot.html) function, and some [examples of how to use it](https://pandas.pydata.org/pandas-docs/stable/user_guide/visualization.html).\n",
    "\n",
    "Explore any questions that interest you about New York City's buildings by plotting charts, for example:\n",
    "* How does price vary with age? (scatter of age vs. price)\n",
    "* Does the breakdown of building types differ between boroughs? (pie chart of landuse)\n",
    "* Which zip codes have most and fewest buildings?\n",
    "* Where are the buildings located? (hint: try a scatter plot of xcoord and ycoord)\n"
   ]
  },
  {
   "cell_type": "code",
   "execution_count": 69,
   "metadata": {},
   "outputs": [
    {
     "data": {
      "image/png": "[encoded data removed]",
      "text/plain": [
       "<Figure size 640x480 with 1 Axes>"
      ]
     },
     "metadata": {},
     "output_type": "display_data"
    }
   ],
   "source": [
    "# YOUR CODE HERE:\n",
    "\n",
    "# Calculate age of each building\n",
    "current_year = 2024\n",
    "df['age'] = current_year - df['yearbuilt']\n",
    "\n",
    "# Scatter plot of age vs. assessed total price\n",
    "df.plot(kind='scatter', x='age', y='assesstot', title='Building Price vs. Age')\n",
    "plt.xlabel('Building Age (years)')\n",
    "plt.ylabel('Assessed Total Price ($)')\n",
    "plt.show()"
   ]
  },
  {
   "cell_type": "code",
   "execution_count": 70,
   "metadata": {},
   "outputs": [
    {
     "data": {
      "image/png": "[encoded data removed]",
      "text/plain": [
       "<Figure size 640x480 with 1 Axes>"
      ]
     },
     "metadata": {},
     "output_type": "display_data"
    }
   ],
   "source": [
    "# Filter data by borough and count land use\n",
    "brooklyn_landuse_counts = df[df['borough'] == 'Brooklyn']['landuse'].value_counts()\n",
    "\n",
    "# Pie chart of land use types in Brooklyn\n",
    "brooklyn_landuse_counts.plot(kind='pie', autopct='%1.1f%%', title='Land Use Breakdown in Brooklyn')\n",
    "plt.ylabel('')  # Hide the y-label for a cleaner pie chart\n",
    "plt.show()\n"
   ]
  },
  {
   "cell_type": "code",
   "execution_count": 71,
   "metadata": {},
   "outputs": [
    {
     "name": "stdout",
     "output_type": "stream",
     "text": [
      "Zip code with most buildings: 10314.0 (973 buildings)\n",
      "Zip code with fewest buildings: 10278.0 (1 buildings)\n"
     ]
    }
   ],
   "source": [
    "# Step to find the zip codes with the most and fewest buildings\n",
    "zipcode_counts = df['zipcode'].value_counts()\n",
    "\n",
    "# Zip code with the most buildings\n",
    "most_buildings_zip = zipcode_counts.idxmax()\n",
    "most_buildings_count = zipcode_counts.max()\n",
    "\n",
    "# Zip code with the fewest buildings\n",
    "fewest_buildings_zip = zipcode_counts.idxmin()\n",
    "fewest_buildings_count = zipcode_counts.min()\n",
    "\n",
    "print(f\"Zip code with most buildings: {most_buildings_zip} ({most_buildings_count} buildings)\")\n",
    "print(f\"Zip code with fewest buildings: {fewest_buildings_zip} ({fewest_buildings_count} buildings)\")\n"
   ]
  },
  {
   "cell_type": "code",
   "execution_count": 72,
   "metadata": {},
   "outputs": [
    {
     "data": {
      "image/png": "[encoded data removed]",
      "text/plain": [
       "<Figure size 640x480 with 1 Axes>"
      ]
     },
     "metadata": {},
     "output_type": "display_data"
    }
   ],
   "source": [
    "# Scatter plot for building locations using DataFrame plot\n",
    "df.plot.scatter(x='xcoord', y='ycoord', title='Building Locations in NYC')\n",
    "plt.xlabel('X Coordinate')\n",
    "plt.ylabel('Y Coordinate')\n",
    "plt.show()\n",
    "\n"
   ]
  },
  {
   "cell_type": "code",
   "execution_count": null,
   "metadata": {},
   "outputs": [],
   "source": []
  },
  {
   "cell_type": "markdown",
   "metadata": {},
   "source": [
    "#### BONUS ADVANCED QUESTION!\n",
    "Impute missing values for year_built using a custom strategy:\n",
    "* Replace all NaNs with the mean year_built for buildings of the same `landuse`.\n",
    "* More advanced version: replace all NaNs with mean `year_built` for buildings of the same `landuse` in the same borough. (eg. multi-family buildings in Brooklyn)"
   ]
  },
  {
   "cell_type": "code",
   "execution_count": 73,
   "metadata": {},
   "outputs": [
    {
     "data": {
      "text/plain": [
       "borough         0\n",
       "numfloors      30\n",
       "yearbuilt      20\n",
       "landuse       134\n",
       "zipcode      1050\n",
       "assesstot      20\n",
       "xcoord         52\n",
       "ycoord         52\n",
       "age            20\n",
       "dtype: int64"
      ]
     },
     "execution_count": 73,
     "metadata": {},
     "output_type": "execute_result"
    }
   ],
   "source": [
    "df.isnull().sum()"
   ]
  },
  {
   "cell_type": "code",
   "execution_count": 75,
   "metadata": {},
   "outputs": [
    {
     "data": {
      "text/html": [
       "<div>\n",
       "<style scoped>\n",
       "    .dataframe tbody tr th:only-of-type {\n",
       "        vertical-align: middle;\n",
       "    }\n",
       "\n",
       "    .dataframe tbody tr th {\n",
       "        vertical-align: top;\n",
       "    }\n",
       "\n",
       "    .dataframe thead th {\n",
       "        text-align: right;\n",
       "    }\n",
       "</style>\n",
       "<table border=\"1\" class=\"dataframe\">\n",
       "  <thead>\n",
       "    <tr style=\"text-align: right;\">\n",
       "      <th></th>\n",
       "      <th>borough</th>\n",
       "      <th>numfloors</th>\n",
       "      <th>yearbuilt</th>\n",
       "      <th>landuse</th>\n",
       "      <th>zipcode</th>\n",
       "      <th>assesstot</th>\n",
       "      <th>xcoord</th>\n",
       "      <th>ycoord</th>\n",
       "      <th>age</th>\n",
       "    </tr>\n",
       "  </thead>\n",
       "  <tbody>\n",
       "    <tr>\n",
       "      <th>0</th>\n",
       "      <td>Bronx</td>\n",
       "      <td>0.00</td>\n",
       "      <td>0.0</td>\n",
       "      <td>Transportation &amp; Utility</td>\n",
       "      <td>NaN</td>\n",
       "      <td>59400.0</td>\n",
       "      <td>1044510.0</td>\n",
       "      <td>246734.0</td>\n",
       "      <td>2024.0</td>\n",
       "    </tr>\n",
       "    <tr>\n",
       "      <th>1</th>\n",
       "      <td>Queens</td>\n",
       "      <td>2.50</td>\n",
       "      <td>1925.0</td>\n",
       "      <td>One &amp; Two Family Buildings</td>\n",
       "      <td>11357.0</td>\n",
       "      <td>29738.0</td>\n",
       "      <td>1035479.0</td>\n",
       "      <td>223657.0</td>\n",
       "      <td>99.0</td>\n",
       "    </tr>\n",
       "    <tr>\n",
       "      <th>2</th>\n",
       "      <td>Brooklyn</td>\n",
       "      <td>2.75</td>\n",
       "      <td>1920.0</td>\n",
       "      <td>One &amp; Two Family Buildings</td>\n",
       "      <td>11208.0</td>\n",
       "      <td>27370.0</td>\n",
       "      <td>1015989.0</td>\n",
       "      <td>187871.0</td>\n",
       "      <td>104.0</td>\n",
       "    </tr>\n",
       "    <tr>\n",
       "      <th>3</th>\n",
       "      <td>Manhattan</td>\n",
       "      <td>6.00</td>\n",
       "      <td>1900.0</td>\n",
       "      <td>Multi-Family Walk-Up Buildings</td>\n",
       "      <td>10025.0</td>\n",
       "      <td>510300.0</td>\n",
       "      <td>994273.0</td>\n",
       "      <td>228915.0</td>\n",
       "      <td>124.0</td>\n",
       "    </tr>\n",
       "    <tr>\n",
       "      <th>4</th>\n",
       "      <td>Queens</td>\n",
       "      <td>2.00</td>\n",
       "      <td>1901.0</td>\n",
       "      <td>One &amp; Two Family Buildings</td>\n",
       "      <td>11421.0</td>\n",
       "      <td>29020.0</td>\n",
       "      <td>1021269.0</td>\n",
       "      <td>190793.0</td>\n",
       "      <td>123.0</td>\n",
       "    </tr>\n",
       "    <tr>\n",
       "      <th>...</th>\n",
       "      <td>...</td>\n",
       "      <td>...</td>\n",
       "      <td>...</td>\n",
       "      <td>...</td>\n",
       "      <td>...</td>\n",
       "      <td>...</td>\n",
       "      <td>...</td>\n",
       "      <td>...</td>\n",
       "      <td>...</td>\n",
       "    </tr>\n",
       "    <tr>\n",
       "      <th>42945</th>\n",
       "      <td>Staten Island</td>\n",
       "      <td>0.00</td>\n",
       "      <td>0.0</td>\n",
       "      <td>Vacant Land</td>\n",
       "      <td>NaN</td>\n",
       "      <td>2466.0</td>\n",
       "      <td>918666.0</td>\n",
       "      <td>122034.0</td>\n",
       "      <td>2024.0</td>\n",
       "    </tr>\n",
       "    <tr>\n",
       "      <th>42946</th>\n",
       "      <td>Queens</td>\n",
       "      <td>2.00</td>\n",
       "      <td>1930.0</td>\n",
       "      <td>One &amp; Two Family Buildings</td>\n",
       "      <td>11369.0</td>\n",
       "      <td>18630.0</td>\n",
       "      <td>1023094.0</td>\n",
       "      <td>215711.0</td>\n",
       "      <td>94.0</td>\n",
       "    </tr>\n",
       "    <tr>\n",
       "      <th>42947</th>\n",
       "      <td>Queens</td>\n",
       "      <td>2.00</td>\n",
       "      <td>1935.0</td>\n",
       "      <td>One &amp; Two Family Buildings</td>\n",
       "      <td>11385.0</td>\n",
       "      <td>31608.0</td>\n",
       "      <td>1020419.0</td>\n",
       "      <td>195701.0</td>\n",
       "      <td>89.0</td>\n",
       "    </tr>\n",
       "    <tr>\n",
       "      <th>42948</th>\n",
       "      <td>Staten Island</td>\n",
       "      <td>0.00</td>\n",
       "      <td>0.0</td>\n",
       "      <td>Vacant Land</td>\n",
       "      <td>NaN</td>\n",
       "      <td>1370.0</td>\n",
       "      <td>953085.0</td>\n",
       "      <td>141515.0</td>\n",
       "      <td>2024.0</td>\n",
       "    </tr>\n",
       "    <tr>\n",
       "      <th>42949</th>\n",
       "      <td>Staten Island</td>\n",
       "      <td>2.50</td>\n",
       "      <td>1920.0</td>\n",
       "      <td>Multi-Family Walk-Up Buildings</td>\n",
       "      <td>10301.0</td>\n",
       "      <td>17865.0</td>\n",
       "      <td>960275.0</td>\n",
       "      <td>172022.0</td>\n",
       "      <td>104.0</td>\n",
       "    </tr>\n",
       "  </tbody>\n",
       "</table>\n",
       "<p>42950 rows × 9 columns</p>\n",
       "</div>"
      ],
      "text/plain": [
       "             borough  numfloors  yearbuilt                         landuse  \\\n",
       "0              Bronx       0.00        0.0        Transportation & Utility   \n",
       "1             Queens       2.50     1925.0      One & Two Family Buildings   \n",
       "2           Brooklyn       2.75     1920.0      One & Two Family Buildings   \n",
       "3          Manhattan       6.00     1900.0  Multi-Family Walk-Up Buildings   \n",
       "4             Queens       2.00     1901.0      One & Two Family Buildings   \n",
       "...              ...        ...        ...                             ...   \n",
       "42945  Staten Island       0.00        0.0                     Vacant Land   \n",
       "42946         Queens       2.00     1930.0      One & Two Family Buildings   \n",
       "42947         Queens       2.00     1935.0      One & Two Family Buildings   \n",
       "42948  Staten Island       0.00        0.0                     Vacant Land   \n",
       "42949  Staten Island       2.50     1920.0  Multi-Family Walk-Up Buildings   \n",
       "\n",
       "       zipcode  assesstot     xcoord    ycoord     age  \n",
       "0          NaN    59400.0  1044510.0  246734.0  2024.0  \n",
       "1      11357.0    29738.0  1035479.0  223657.0    99.0  \n",
       "2      11208.0    27370.0  1015989.0  187871.0   104.0  \n",
       "3      10025.0   510300.0   994273.0  228915.0   124.0  \n",
       "4      11421.0    29020.0  1021269.0  190793.0   123.0  \n",
       "...        ...        ...        ...       ...     ...  \n",
       "42945      NaN     2466.0   918666.0  122034.0  2024.0  \n",
       "42946  11369.0    18630.0  1023094.0  215711.0    94.0  \n",
       "42947  11385.0    31608.0  1020419.0  195701.0    89.0  \n",
       "42948      NaN     1370.0   953085.0  141515.0  2024.0  \n",
       "42949  10301.0    17865.0   960275.0  172022.0   104.0  \n",
       "\n",
       "[42950 rows x 9 columns]"
      ]
     },
     "execution_count": 75,
     "metadata": {},
     "output_type": "execute_result"
    }
   ],
   "source": [
    "\n",
    "df['yearbuilt'] = df.groupby('landuse')['yearbuilt'].transform(lambda x: x.fillna(x.mean()))\n",
    "df"
   ]
  },
  {
   "cell_type": "code",
   "execution_count": null,
   "metadata": {},
   "outputs": [],
   "source": []
  },
  {
   "cell_type": "code",
   "execution_count": null,
   "metadata": {},
   "outputs": [],
   "source": []
  }
 ],
 "metadata": {
  "kernelspec": {
   "display_name": "Python 3 (ipykernel)",
   "language": "python",
   "name": "python3"
  },
  "language_info": {
   "codemirror_mode": {
    "name": "ipython",
    "version": 3
   },
   "file_extension": ".py",
   "mimetype": "text/x-python",
   "name": "python",
   "nbconvert_exporter": "python",
   "pygments_lexer": "ipython3",
   "version": "3.12.4"
  }
 },
 "nbformat": 4,
 "nbformat_minor": 4
}
