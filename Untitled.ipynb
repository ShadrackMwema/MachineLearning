{
 "cells": [
  {
   "cell_type": "code",
   "execution_count": 23,
   "id": "2cdd57c0-6a52-4452-88cc-24d2e244ab5e",
   "metadata": {},
   "outputs": [
    {
     "data": {
      "text/plain": [
       "array([ 1,  2,  3,  4,  5,  6,  7,  8,  9, 10])"
      ]
     },
     "execution_count": 23,
     "metadata": {},
     "output_type": "execute_result"
    }
   ],
   "source": [
    "# vector of id students\n",
    "# Matrix of student marks\n",
    "# Average marks\n",
    "# Average unit mark\n",
    "# 4 best for student  \n",
    "# Student rank\n",
    "import numpy as np\n",
    "import random \n",
    "\n",
    "student_ids = np.arange(1,11)\n",
    "student_ids\n",
    "\n"
   ]
  },
  {
   "cell_type": "code",
   "execution_count": 37,
   "id": "0b9468fe-b379-4430-9090-cd28767f3f3b",
   "metadata": {},
   "outputs": [
    {
     "name": "stdout",
     "output_type": "stream",
     "text": [
      "[[88 79 48 81 84]\n",
      " [68 72 47 83 62]\n",
      " [97 69 55 46 70]\n",
      " [32 93 73 67 66]\n",
      " [65 84 48 55 73]\n",
      " [51 80 38 84 46]\n",
      " [50 70 51 43 88]\n",
      " [34 90 90 98 55]\n",
      " [35 69 31 46 68]\n",
      " [72 90 35 81 52]]\n"
     ]
    }
   ],
   "source": [
    "stu_marks= np.random.randint(31,99,size=(10,5))\n",
    "print(stu_marks)\n",
    "\n"
   ]
  },
  {
   "cell_type": "code",
   "execution_count": null,
   "id": "c5bc510e-1777-48fb-8501-4a67ba50d39a",
   "metadata": {},
   "outputs": [],
   "source": []
  }
 ],
 "metadata": {
  "kernelspec": {
   "display_name": "Python 3 (ipykernel)",
   "language": "python",
   "name": "python3"
  },
  "language_info": {
   "codemirror_mode": {
    "name": "ipython",
    "version": 3
   },
   "file_extension": ".py",
   "mimetype": "text/x-python",
   "name": "python",
   "nbconvert_exporter": "python",
   "pygments_lexer": "ipython3",
   "version": "3.12.4"
  }
 },
 "nbformat": 4,
 "nbformat_minor": 5
}
