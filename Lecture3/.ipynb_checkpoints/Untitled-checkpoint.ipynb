{
 "cells": [
  {
   "cell_type": "code",
   "execution_count": 10,
   "id": "89f7cad7-253d-414e-bc03-10b1cfbac232",
   "metadata": {},
   "outputs": [
    {
     "data": {
      "text/plain": [
       "array([ 1,  2,  3,  4,  5,  6,  7,  8,  9, 10])"
      ]
     },
     "execution_count": 10,
     "metadata": {},
     "output_type": "execute_result"
    }
   ],
   "source": [
    "import numpy as np\n",
    "stu_indexes= np.arange(1,11)\n",
    "stu_indexes"
   ]
  },
  {
   "cell_type": "code",
   "execution_count": 11,
   "id": "79848975-5e64-43ef-9ad0-42b5599dfe9d",
   "metadata": {},
   "outputs": [],
   "source": [
    "stu_marks = np.random.randint(40,100,size=(10,5))"
   ]
  },
  {
   "cell_type": "code",
   "execution_count": 13,
   "id": "05856d08-0980-4458-8b03-e1312ffad475",
   "metadata": {},
   "outputs": [
    {
     "name": "stdout",
     "output_type": "stream",
     "text": [
      "Student1:Marks [61 94 80 46 44]\n",
      "Student2:Marks [48 64 59 50 41]\n",
      "Student3:Marks [98 55 80 68 80]\n",
      "Student4:Marks [56 78 64 66 81]\n",
      "Student5:Marks [57 44 92 86 84]\n",
      "Student6:Marks [76 59 74 77 93]\n",
      "Student7:Marks [67 58 54 57 70]\n",
      "Student8:Marks [41 88 50 75 40]\n",
      "Student9:Marks [63 70 96 46 66]\n",
      "Student10:Marks [43 81 73 60 72]\n"
     ]
    }
   ],
   "source": [
    "for stu_index,stu_mark in zip(stu_indexes,stu_marks):\n",
    "    print(f\"Student{stu_index}:Marks {stu_mark}\")"
   ]
  },
  {
   "cell_type": "code",
   "execution_count": 14,
   "id": "3dff8996-6012-4c96-802f-4130a29c3bd9",
   "metadata": {},
   "outputs": [
    {
     "name": "stdout",
     "output_type": "stream",
     "text": [
      "Student 1: TotalMarks = 325\n",
      "Student 2: TotalMarks = 262\n",
      "Student 3: TotalMarks = 381\n",
      "Student 4: TotalMarks = 345\n",
      "Student 5: TotalMarks = 363\n",
      "Student 6: TotalMarks = 379\n",
      "Student 7: TotalMarks = 306\n",
      "Student 8: TotalMarks = 294\n",
      "Student 9: TotalMarks = 341\n",
      "Student 10: TotalMarks = 329\n"
     ]
    }
   ],
   "source": [
    "total_marks =np.sum(stu_marks,axis =1)\n",
    "for stu_index, total_mark in zip(stu_indexes,total_marks):\n",
    "    print(f\"Student {stu_index}: TotalMarks = {total_mark}\")"
   ]
  },
  {
   "cell_type": "code",
   "execution_count": null,
   "id": "6c29579a-2371-4deb-800b-d06258405519",
   "metadata": {},
   "outputs": [],
   "source": []
  }
 ],
 "metadata": {
  "kernelspec": {
   "display_name": "Python 3 (ipykernel)",
   "language": "python",
   "name": "python3"
  },
  "language_info": {
   "codemirror_mode": {
    "name": "ipython",
    "version": 3
   },
   "file_extension": ".py",
   "mimetype": "text/x-python",
   "name": "python",
   "nbconvert_exporter": "python",
   "pygments_lexer": "ipython3",
   "version": "3.12.4"
  }
 },
 "nbformat": 4,
 "nbformat_minor": 5
}
