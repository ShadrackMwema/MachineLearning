{
 "cells": [
  {
   "cell_type": "markdown",
   "metadata": {},
   "source": [
    "# Python for Data Science - Lab 1\n",
    "Work through the following exercises. Get through as many as you can in the time allotted.\n",
    "The box lists additional Python functionality that may help you.\n",
    "\n",
    "| Task | Python function |\n",
    "|----|----|\n",
    "| Import the code library 'random' | import random |\n",
    "| Generate random numbers | random.randint() |\n",
    "| Prompt the user for some text | my_variable = input() |\n"
   ]
  },
  {
   "cell_type": "markdown",
   "metadata": {},
   "source": [
    "#### EXERCISE 1: Too many donuts?\n",
    "*Objective: handle strings and integers, test conditions*\n",
    "\n",
    "Write a program that will:\n",
    "1. Define a variable 'donuts_eaten'.\n",
    "2. Print a string of the form 'Donuts consumed: `<count>`'. However if 10 or more donuts were eaten, then use the word 'many' instead of the actual count."
   ]
  },
  {
   "cell_type": "code",
   "execution_count": null,
   "metadata": {},
   "outputs": [],
   "source": [
    "# YOUR CODE HERE:\n",
    "\n",
    "donuts_eaten = "
   ]
  },
  {
   "cell_type": "markdown",
   "metadata": {},
   "source": [
    "#### EXERCISE 2a: Age calculator\n",
    "*Objective: Define variables, do basic math, convert data types*\n",
    "    \n",
    "Write a program that will:\n",
    "1. Define a variable 'birth_year'\n",
    "2. Define a variable 'current_year'\n",
    "3. Calculate the person's age from these two\n",
    "4. Print the output in format (\"You are x years old.\")"
   ]
  },
  {
   "cell_type": "code",
   "execution_count": 3,
   "metadata": {},
   "outputs": [],
   "source": [
    "# YOUR CODE HERE:\n",
    "\n",
    "birth_year = \n",
    "current_year = "
   ]
  },
  {
   "cell_type": "markdown",
   "metadata": {},
   "source": [
    "#### EXERCISE 2b: Premier League salaries\n",
    "*Objective: Define variables, do math, use conditional logic.*\n",
    "\n",
    "1. Define two variables, player_name (a string), and annual_salary (an integer).\n",
    "2. Assume there are 38 game days. Print a neat string saying your player's name and how much they earn (a) per month; and (b) per game day. \n",
    "3. Now define a Boolean variable championship_winners.\n",
    "4. Test whether championship_winners is True, and if so, print your output again but with a 33% bonus.\n",
    "\n",
    "**BONUS POINTS**: limit the salary to two decimal points when printing it."
   ]
  },
  {
   "cell_type": "code",
   "execution_count": 4,
   "metadata": {},
   "outputs": [],
   "source": [
    "# YOUR CODE HERE:\n",
    "\n",
    "player_name = 'Ronaldo'\n",
    "annual_salary = 33500000\n",
    "days_in_season = 38\n",
    "\n"
   ]
  },
  {
   "cell_type": "markdown",
   "metadata": {},
   "source": [
    "#### EXERCISE 3: Dog's dinner\n",
    "*Objective: Practice string manipulation*\n",
    "\n",
    "1. Define two strings, a and b.\n",
    "2. Your program should return a single string with a and b separated by a space, except swap the first 2 chars of each string.\n",
    "* eg. 'dog', 'dinner' -> 'dig donner'\n"
   ]
  },
  {
   "cell_type": "code",
   "execution_count": null,
   "metadata": {},
   "outputs": [],
   "source": [
    "# YOUR CODE HERE:"
   ]
  },
  {
   "cell_type": "markdown",
   "metadata": {},
   "source": [
    "#### EXERCISE 4: Higher or lower?\n",
    "*Objective: Test conditions, use a counter.*\n",
    "\n",
    "Write a program to:\n",
    "1. Generate a random number (kept secret from the user).\n",
    "2. Prompt the user \"Guess a number\" and record their input.\n",
    "3. Tell them if they were correct, too high, or too low.\n",
    "\n",
    "BONUS POINTS: limit the number of guesses to 5."
   ]
  },
  {
   "cell_type": "code",
   "execution_count": 5,
   "metadata": {},
   "outputs": [],
   "source": [
    "# YOUR CODE HERE:"
   ]
  },
  {
   "cell_type": "markdown",
   "metadata": {},
   "source": [
    "#### EXERCISE 5: FizzBuzz\n",
    "*Objective: Get a job at Amazon! (they use it in software engineer interviews)*\n",
    "\n",
    "Write a script to:\n",
    "\n",
    "* Print out the numbers from 1 to 20 but replacing numbers with 'Fizz' if divisible by 3, 'Buzz' if divisible by '5', and 'FizzBuzz' if divisible by 3 and 5.\n",
    "\n",
    "Hint: the 'mod' operator, denoted %, is used to check divisibility. Example: 10 % 2 == 0."
   ]
  },
  {
   "cell_type": "code",
   "execution_count": null,
   "metadata": {},
   "outputs": [],
   "source": [
    "# YOUR CODE HERE:"
   ]
  }
 ],
 "metadata": {
  "kernelspec": {
   "display_name": "Python 3 (ipykernel)",
   "language": "python",
   "name": "python3"
  },
  "language_info": {
   "codemirror_mode": {
    "name": "ipython",
    "version": 3
   },
   "file_extension": ".py",
   "mimetype": "text/x-python",
   "name": "python",
   "nbconvert_exporter": "python",
   "pygments_lexer": "ipython3",
   "version": "3.11.5"
  }
 },
 "nbformat": 4,
 "nbformat_minor": 2
}
