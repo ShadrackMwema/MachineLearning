{
 "cells": [
  {
   "cell_type": "code",
   "execution_count": 19,
   "id": "7f29db16-ab75-4ae3-b37b-49e15591c1cf",
   "metadata": {},
   "outputs": [
    {
     "name": "stdout",
     "output_type": "stream",
     "text": [
      "yt\n",
      "thon\n"
     ]
    }
   ],
   "source": [
    "#lists, Data structures\n",
    "language = \"python\"\n",
    "language[0]\n",
    "print(language[1:3])\n",
    "print(language[-4:])#from fourth element from the last in the list"
   ]
  },
  {
   "cell_type": "code",
   "execution_count": 16,
   "id": "9df4becb-3aaa-4041-810b-81026b733d03",
   "metadata": {},
   "outputs": [
    {
     "name": "stdout",
     "output_type": "stream",
     "text": [
      "['java', 'c++']\n",
      "['java', 'c++']\n"
     ]
    }
   ],
   "source": [
    "list=language[:2]#prints from index 0 to 1\n",
    "ist=language[2:]#prints from index 2 onwards\n",
    "ls2 = language[1:3]\n",
    "print(ls2)\n"
   ]
  },
  {
   "cell_type": "code",
   "execution_count": 13,
   "id": "d462a034-c59d-4927-a0b1-a4acd1790604",
   "metadata": {},
   "outputs": [
    {
     "data": {
      "text/plain": [
       "'python'"
      ]
     },
     "execution_count": 13,
     "metadata": {},
     "output_type": "execute_result"
    }
   ],
   "source": [
    "language = ['python',\"java\",\"c++\",\"ruby\"]\n",
    "language[0]\n"
   ]
  },
  {
   "cell_type": "code",
   "execution_count": 14,
   "id": "369c93bf-10ab-43c8-b59c-6de6a2e27239",
   "metadata": {},
   "outputs": [
    {
     "name": "stdout",
     "output_type": "stream",
     "text": [
      "ruby\n"
     ]
    }
   ],
   "source": [
    "print(language[-1])"
   ]
  },
  {
   "cell_type": "code",
   "execution_count": 21,
   "id": "9d1538ae-934f-42f5-8d48-fbec3c747c0c",
   "metadata": {},
   "outputs": [
    {
     "name": "stdout",
     "output_type": "stream",
     "text": [
      "0022-\n"
     ]
    }
   ],
   "source": [
    "#Extracting data from messy strings\n",
    "zip_code1= \"Fred ZIP 20022-0049\"\n",
    "zip_code2= \"Margaret: ZIP 20009-0132\"\n",
    "print(zip_code1[10:15])"
   ]
  },
  {
   "cell_type": "code",
   "execution_count": 25,
   "id": "259b9881-3937-487f-971c-eb151f7e3d1b",
   "metadata": {},
   "outputs": [
    {
     "name": "stdout",
     "output_type": "stream",
     "text": [
      "['Fred', 'ZIP', '20022-0049']\n",
      "['Fred ZIP 20022', '0049']\n"
     ]
    }
   ],
   "source": [
    "print(zip_code1.split())# uses space delimiter\n",
    "print(zip_code1.split(\"-\"))"
   ]
  },
  {
   "cell_type": "code",
   "execution_count": 23,
   "id": "fcbff347-f669-4942-8861-6c8fd78137d8",
   "metadata": {},
   "outputs": [
    {
     "name": "stdout",
     "output_type": "stream",
     "text": [
      "Fred ZIP 20022-0049\n"
     ]
    }
   ],
   "source": [
    "print(\"\".join(zip_code1))"
   ]
  },
  {
   "cell_type": "code",
   "execution_count": 30,
   "id": "f3e4798a-e8d3-4320-8ba0-67a4b285e236",
   "metadata": {},
   "outputs": [
    {
     "name": "stdout",
     "output_type": "stream",
     "text": [
      "20022\n"
     ]
    }
   ],
   "source": [
    "answer = zip_code1.split()[2].split(\"-\")[0]#20022-0049 but interested in 20022\n",
    "print(answer)"
   ]
  },
  {
   "cell_type": "code",
   "execution_count": 46,
   "id": "5be3e7c4-2776-4fa5-8e1b-f7c06671c9c6",
   "metadata": {},
   "outputs": [
    {
     "name": "stdout",
     "output_type": "stream",
     "text": [
      "[1, 2, 3, 4]\n"
     ]
    }
   ],
   "source": [
    "some_values = [1,2,3,4]\n",
    "mask = []\n",
    "for i in range(len(some_values)):\n",
    "     #if some_values > 2:\n",
    "         mask.append(some_values[i])\n",
    "print(mask)\n",
    "    "
   ]
  },
  {
   "cell_type": "code",
   "execution_count": 35,
   "id": "53f2231c-3c75-4b30-84d3-9e38bb252191",
   "metadata": {},
   "outputs": [
    {
     "name": "stdout",
     "output_type": "stream",
     "text": [
      "0 1\n",
      "1 2\n",
      "2 3\n",
      "3 4\n"
     ]
    }
   ],
   "source": [
    "for i,name in enumerate(some_values):\n",
    "    print(i,name)\n"
   ]
  },
  {
   "cell_type": "code",
   "execution_count": 48,
   "id": "20383cf6-efea-45c6-a644-da4f7754e29f",
   "metadata": {},
   "outputs": [],
   "source": [
    "#append, extend, insert"
   ]
  },
  {
   "cell_type": "code",
   "execution_count": 60,
   "id": "7cb57fe0-0640-44be-b09a-dea1f315848e",
   "metadata": {},
   "outputs": [
    {
     "name": "stdout",
     "output_type": "stream",
     "text": [
      "[-97, -98, -99, -100, -93, -94, -95, -96, -89, -90, -91, -92, -85, -86, -87, -88, -81, -82, -83, -84, -77, -78, -79, -80, -73, -74, -75, -76, -69, -70, -71, -72, -65, -66, -67, -68, -61, -62, -63, -64, -57, -58, -59, -60, -53, -54, -55, -56, -49, -50, -51, -52, -45, -46, -47, -48, -41, -42, -43, -44, -37, -38, -39, -40, -33, -34, -35, -36, -29, -30, -31, -32, -25, -26, -27, -28, -21, -22, -23, -24, -17, -18, -19, -20, -13, -14, -15, -16, -9, -10, -11, -12, -5, -6, -7, -8, -1, -2, -3, -4, 3, 2, 1, 0, 7, 6, 5, 4, 11, 10, 9, 8, 15, 14, 13, 12, 19, 18, 17, 16, 23, 22, 21, 20, 27, 26, 25, 24, 31, 30, 29, 28, 35, 34, 33, 32, 39, 38, 37, 36, 43, 42, 41, 40, 47, 46, 45, 44, 51, 50, 49, 48, 55, 54, 53, 52, 59, 58, 57, 56, 63, 62, 61, 60, 67, 66, 65, 64, 71, 70, 69, 68, 75, 74, 73, 72, 79, 78, 77, 76, 83, 82, 81, 80, 87, 86, 85, 84, 91, 90, 89, 88, 95, 94, 93, 92, 99, 98, 97, 96, 103]\n"
     ]
    }
   ],
   "source": [
    "print ([n^3 for n in range (-100,101)])\n",
    "\n",
    "    "
   ]
  },
  {
   "cell_type": "code",
   "execution_count": 69,
   "id": "4717b1e0-c70d-46c0-a749-2eaad436761f",
   "metadata": {},
   "outputs": [
    {
     "name": "stdout",
     "output_type": "stream",
     "text": [
      "[20, 45, 80]\n"
     ]
    }
   ],
   "source": [
    "age = [10,15,20]\n",
    "insurance_rates =[2,3,4]\n",
    "\n",
    "new_rates = ([a*r for a,r in zip(age,insurance_rates)] if age%10\n",
    "print(new_rates)"
   ]
  },
  {
   "cell_type": "code",
   "execution_count": 74,
   "id": "a914aa08-f995-4a8d-8cc0-ec36621cc898",
   "metadata": {},
   "outputs": [
    {
     "name": "stdout",
     "output_type": "stream",
     "text": [
      "Herlone: ZIP 3219-2325\n"
     ]
    }
   ],
   "source": [
    "my_list = [\"Alex: ZIP 20022-0040\", \"mARGARET: ZIP 2000-0132\", \"Herlone: ZIP 3219-2325\"]\n",
    "for x in my_list:\n",
    "    x.split()[2].split(\"-\")[1]\n",
    "    x.split(\"-\")[1]\n",
    "print(x)"
   ]
  },
  {
   "cell_type": "code",
   "execution_count": null,
   "id": "3284b4a6-1c95-4110-b289-2c2ba684c77a",
   "metadata": {},
   "outputs": [],
   "source": []
  }
 ],
 "metadata": {
  "kernelspec": {
   "display_name": "Python 3 (ipykernel)",
   "language": "python",
   "name": "python3"
  },
  "language_info": {
   "codemirror_mode": {
    "name": "ipython",
    "version": 3
   },
   "file_extension": ".py",
   "mimetype": "text/x-python",
   "name": "python",
   "nbconvert_exporter": "python",
   "pygments_lexer": "ipython3",
   "version": "3.12.4"
  }
 },
 "nbformat": 4,
 "nbformat_minor": 5
}
