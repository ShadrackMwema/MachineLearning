{
 "cells": [
  {
   "cell_type": "markdown",
   "metadata": {},
   "source": [
    "# Python for Data Science - Lab 1\n",
    "Work through the following exercises. Get through as many as you can in the time allotted.\n",
    "The box lists additional Python functionality that may help you.\n",
    "\n",
    "| Task | Python function |\n",
    "|----|----|\n",
    "| Import the code library 'random' | import random |\n",
    "| Generate random numbers | random.randint() |\n",
    "| Prompt the user for some text | my_variable = input() |\n"
   ]
  },
  {
   "cell_type": "markdown",
   "metadata": {},
   "source": [
    "#### EXERCISE 1: Too many donuts?\n",
    "*Objective: handle strings and integers, test conditions*\n",
    "\n",
    "Write a program that will:\n",
    "1. Define a variable 'donuts_eaten'.\n",
    "2. Print a string of the form 'Donuts consumed: `<count>`'. However if 10 or more donuts were eaten, then use the word 'many' instead of the actual count."
   ]
  },
  {
   "cell_type": "code",
   "execution_count": 17,
   "metadata": {},
   "outputs": [
    {
     "name": "stdin",
     "output_type": "stream",
     "text": [
      "Enter the number of donuts consumed 9\n"
     ]
    },
    {
     "name": "stdout",
     "output_type": "stream",
     "text": [
      "Donuts consumed:9\n"
     ]
    }
   ],
   "source": [
    "# YOUR CODE HERE:\n",
    "\n",
    "donuts_eaten = int(input(\"Enter the number of donuts consumed\"))\n",
    "if donuts_eaten < 10:\n",
    "        print (f\"Donuts consumed:{donuts_eaten}\")\n",
    "else:\n",
    "        print (f\"Donuts consumed:many\")"
   ]
  },
  {
   "cell_type": "markdown",
   "metadata": {},
   "source": [
    "#### EXERCISE 2a: Age calculator\n",
    "*Objective: Define variables, do basic math, convert data types*\n",
    "    \n",
    "Write a program that will:\n",
    "1. Define a variable 'birth_year'\n",
    "2. Define a variable 'current_year'\n",
    "3. Calculate the person's age from these two\n",
    "4. Print the output in format (\"You are x years old.\")"
   ]
  },
  {
   "cell_type": "code",
   "execution_count": 18,
   "metadata": {},
   "outputs": [
    {
     "name": "stdin",
     "output_type": "stream",
     "text": [
      "Enter birth_date 2002\n"
     ]
    },
    {
     "name": "stdout",
     "output_type": "stream",
     "text": [
      "You are 22 years old\n"
     ]
    }
   ],
   "source": [
    "# YOUR CODE HERE:\n",
    "\n",
    "birth_year = int(input(\"Enter birth_date\"))\n",
    "current_year = 2024\n",
    "\n",
    "age = current_year- birth_year\n",
    "print(f\"You are {age} years old\")"
   ]
  },
  {
   "cell_type": "markdown",
   "metadata": {},
   "source": [
    "#### EXERCISE 2b: Premier League salaries\n",
    "*Objective: Define variables, do math, use conditional logic.*\n",
    "\n",
    "1. Define two variables, player_name (a string), and annual_salary (an integer).\n",
    "2. Assume there are 38 game days. Print a neat string saying your player's name and how much they earn (a) per month; and (b) per game day. \n",
    "3. Now define a Boolean variable championship_winners.\n",
    "4. Test whether championship_winners is True, and if so, print your output again but with a 33% bonus.\n",
    "\n",
    "**BONUS POINTS**: limit the salary to two decimal points when printing it."
   ]
  },
  {
   "cell_type": "code",
   "execution_count": 34,
   "metadata": {},
   "outputs": [
    {
     "name": "stdout",
     "output_type": "stream",
     "text": [
      "Ronaldo earns a) 2791666.6666666665 per month ; and b) 881578.947368421 per game day\n",
      "Ronaldo earns a) 3712916.6666666665 per month ; and b) 1172500.0 per game day\n"
     ]
    }
   ],
   "source": [
    "# YOUR CODE HERE:\n",
    "\n",
    "player_name = 'Ronaldo'\n",
    "annual_salary = 33500000\n",
    "days_in_season = 38\n",
    "\n",
    "monthly_salary = annual_salary / 12\n",
    "game_day_earning = annual_salary / days_in_season\n",
    "\n",
    "print(f\"{player_name} earns a) {monthly_salary} per month ; and b) {game_day_earning} per game day\")\n",
    "\n",
    "\n",
    "chambionship_winners = True\n",
    "\n",
    "\n",
    "if chambionship_winners:\n",
    "    monthly_salary = (annual_salary / 12)*1.33\n",
    "    game_day_earning = (annual_salary / days_in_season)*1.33\n",
    "    print(f\"{player_name} earns a) {monthly_salary} per month ; and b) {game_day_earning} per game day\")\n",
    "else:\n",
    "    print(\"Loser\")\n"
   ]
  },
  {
   "cell_type": "markdown",
   "metadata": {},
   "source": [
    "#### EXERCISE 3: Dog's dinner\n",
    "*Objective: Practice string manipulation*\n",
    "\n",
    "1. Define two strings, a and b.\n",
    "2. Your program should return a single string with a and b separated by a space, except swap the first 2 chars of each string.\n",
    "* eg. 'dog', 'dinner' -> 'dig donner'\n"
   ]
  },
  {
   "cell_type": "code",
   "execution_count": null,
   "metadata": {},
   "outputs": [],
   "source": [
    "# YOUR CODE HERE:\n",
    "a = \"dog\"\n",
    "b = \"dinner\"\n",
    "\n",
    "first=[]\n",
    "second=[]\n",
    "\n",
    "\n",
    "first.append(b[:2])\n",
    "first.append(a[2:])\n",
    "c = \"\".join(first)\n",
    "print(a)\n",
    "\n",
    "second.append(a[:2])\n",
    "second.append(b[2:])\n",
    "b = \"\".join(second)\n",
    "\n",
    "print((f\"{c } {b}\"))"
   ]
  },
  {
   "cell_type": "markdown",
   "metadata": {},
   "source": [
    "#### EXERCISE 4: Higher or lower?\n",
    "*Objective: Test conditions, use a counter.*\n",
    "\n",
    "Write a program to:\n",
    "1. Generate a random number (kept secret from the user).\n",
    "2. Prompt the user \"Guess a number\" and record their input.\n",
    "3. Tell them if they were correct, too high, or too low.\n",
    "\n",
    "BONUS POINTS: limit the number of guesses to 5."
   ]
  },
  {
   "cell_type": "code",
   "execution_count": 19,
   "metadata": {},
   "outputs": [
    {
     "name": "stdin",
     "output_type": "stream",
     "text": [
      "Guess a number 1\n"
     ]
    },
    {
     "name": "stdout",
     "output_type": "stream",
     "text": [
      "7\n"
     ]
    },
    {
     "name": "stdin",
     "output_type": "stream",
     "text": [
      "Too low Guess again 2\n",
      "Too low Guess again 5\n",
      "Too low Guess again 6\n",
      "Too low Guess again 3\n"
     ]
    },
    {
     "name": "stdout",
     "output_type": "stream",
     "text": [
      "Maximum number of Guesses REached\n"
     ]
    }
   ],
   "source": [
    "# YOUR CODE HERE:\n",
    "import random\n",
    "guess = int(input(\"Guess a number\"))\n",
    "random_number = random.randint(1, 20)\n",
    "i=5\n",
    "\n",
    "print(random_number)\n",
    "while i >1:\n",
    "    \n",
    "    if random_number>guess:\n",
    "        guess = int(input(\"Too low Guess again\"))\n",
    "        \n",
    "    elif guess == random_number:\n",
    "        print(\"Correct\")\n",
    "    else:\n",
    "        guess = int(input(\"Too High Guess again\"))\n",
    "        \n",
    "    i-=1\n",
    "print(\"Maximum number of Guesses REached\")\n",
    "    \n",
    "\n"
   ]
  },
  {
   "cell_type": "markdown",
   "metadata": {},
   "source": [
    "#### EXERCISE 5: FizzBuzz\n",
    "*Objective: Get a job at Amazon! (they use it in software engineer interviews)*\n",
    "\n",
    "Write a script to:\n",
    "\n",
    "* Print out the numbers from 1 to 20 but replacing numbers with 'Fizz' if divisible by 3, 'Buzz' if divisible by '5', and 'FizzBuzz' if divisible by 3 and 5.\n",
    "\n",
    "Hint: the 'mod' operator, denoted %, is used to check divisibility. Example: 10 % 2 == 0."
   ]
  },
  {
   "cell_type": "code",
   "execution_count": 25,
   "metadata": {},
   "outputs": [
    {
     "name": "stdout",
     "output_type": "stream",
     "text": [
      "Fizz\n",
      "1\n",
      "2\n",
      "Fizz\n",
      "4\n",
      "Buzz\n",
      "Fizz\n",
      "7\n",
      "8\n",
      "Fizz\n",
      "Buzz\n",
      "11\n",
      "Fizz\n",
      "13\n",
      "14\n",
      "Fizz\n",
      "16\n",
      "17\n",
      "Fizz\n",
      "19\n",
      "Buzz\n"
     ]
    }
   ],
   "source": [
    "# YOUR CODE HERE:\n",
    "for i in range(21):\n",
    "    if i % 3 == 0:\n",
    "        i = \"Fizz\"\n",
    "        print (i)\n",
    "    elif i % 5 == 0:\n",
    "        i =\"Buzz\"\n",
    "        print(i)\n",
    "    elif i %3 and i % 5 == 0:\n",
    "        i =\"FizzBuzz\"\n",
    "        print(i)\n",
    "\n",
    "    else :\n",
    "        print(i)"
   ]
  },
  {
   "cell_type": "code",
   "execution_count": null,
   "metadata": {},
   "outputs": [],
   "source": []
  }
 ],
 "metadata": {
  "kernelspec": {
   "display_name": "Python 3 (ipykernel)",
   "language": "python",
   "name": "python3"
  },
  "language_info": {
   "codemirror_mode": {
    "name": "ipython",
    "version": 3
   },
   "file_extension": ".py",
   "mimetype": "text/x-python",
   "name": "python",
   "nbconvert_exporter": "python",
   "pygments_lexer": "ipython3",
   "version": "3.12.4"
  }
 },
 "nbformat": 4,
 "nbformat_minor": 4
}
