{
 "cells": [
  {
   "cell_type": "code",
   "execution_count": null,
   "id": "a021e468-1f7f-4a0c-9899-841374841aab",
   "metadata": {},
   "outputs": [
    {
     "name": "stdout",
     "output_type": "stream",
     "text": [
      "Age Calculator\n"
     ]
    }
   ],
   "source": [
    "print(\"Age Calculator\")\n",
    "names = input(\"Please enter the names seperated by commas eg Shad,mike,Emily\")\n",
    "# names.split( ,)\n",
    "\n"
   ]
  },
  {
   "cell_type": "code",
   "execution_count": null,
   "id": "bccee5f6-cdd3-4a56-b258-14909e8facf3",
   "metadata": {},
   "outputs": [],
   "source": []
  }
 ],
 "metadata": {
  "kernelspec": {
   "display_name": "Python 3 (ipykernel)",
   "language": "python",
   "name": "python3"
  },
  "language_info": {
   "codemirror_mode": {
    "name": "ipython",
    "version": 3
   },
   "file_extension": ".py",
   "mimetype": "text/x-python",
   "name": "python",
   "nbconvert_exporter": "python",
   "pygments_lexer": "ipython3",
   "version": "3.12.4"
  }
 },
 "nbformat": 4,
 "nbformat_minor": 5
}
