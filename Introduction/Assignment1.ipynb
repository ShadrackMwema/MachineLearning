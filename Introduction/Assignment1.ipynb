{
 "cells": [
  {
   "cell_type": "code",
   "execution_count": 11,
   "id": "a021e468-1f7f-4a0c-9899-841374841aab",
   "metadata": {},
   "outputs": [
    {
     "name": "stdout",
     "output_type": "stream",
     "text": [
      "Age Calculator\n"
     ]
    },
    {
     "name": "stdin",
     "output_type": "stream",
     "text": [
      "Please enter the names separated by commas (e.g. Shad, Mike, Emily):  shad,mike,emily\n",
      "Please enter their year of birth in respective order, separated by commas:  2005,2004,2003\n"
     ]
    },
    {
     "name": "stdout",
     "output_type": "stream",
     "text": [
      "shad is 19 years old.\n",
      "mike is 20 years old.\n",
      "emily is 21 years old.\n"
     ]
    }
   ],
   "source": [
    "from datetime import datetime\n",
    "\n",
    "# Get the current year\n",
    "current_year = datetime.now().year\n",
    "\n",
    "print(\"Age Calculator\")\n",
    "names = input(\"Please enter the names separated by commas (e.g. Shad, Mike, Emily): \")\n",
    "nameList = names.split(\",\")  # Split names into a list\n",
    "\n",
    "year_of_birth = input(\"Please enter their year of birth in respective order, separated by commas: \")\n",
    "year_of_birth_list = year_of_birth.split(\",\")  # Split year of birth into a list\n",
    "\n",
    "# Print names and calculate their ages\n",
    "for i in range(len(nameList)):\n",
    "    name = nameList[i].strip()  # Strip to remove any extra spaces\n",
    "    birth_year = int(year_of_birth_list[i].strip())  # Convert birth year to an integer\n",
    "    age = current_year - birth_year\n",
    "    print(f\"{name} is {age} years old.\")\n"
   ]
  },
  {
   "cell_type": "code",
   "execution_count": null,
   "id": "fffd6c15-2df2-479f-8ffd-74636becfea6",
   "metadata": {},
   "outputs": [],
   "source": [
    "shad, maiko, emily\n",
    "\n"
   ]
  },
  {
   "cell_type": "code",
   "execution_count": null,
   "id": "576206fc-e6db-46f7-8d4c-20f904cc0637",
   "metadata": {},
   "outputs": [],
   "source": []
  }
 ],
 "metadata": {
  "kernelspec": {
   "display_name": "Python 3 (ipykernel)",
   "language": "python",
   "name": "python3"
  },
  "language_info": {
   "codemirror_mode": {
    "name": "ipython",
    "version": 3
   },
   "file_extension": ".py",
   "mimetype": "text/x-python",
   "name": "python",
   "nbconvert_exporter": "python",
   "pygments_lexer": "ipython3",
   "version": "3.12.4"
  }
 },
 "nbformat": 4,
 "nbformat_minor": 5
}
