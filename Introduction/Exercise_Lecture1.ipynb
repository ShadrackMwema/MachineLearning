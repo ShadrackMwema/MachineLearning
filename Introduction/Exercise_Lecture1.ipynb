{
 "cells": [
  {
   "cell_type": "markdown",
   "id": "d30dcb76-7def-453a-afa8-4063bb8b83ae",
   "metadata": {},
   "source": [
    "# Admission Numbers\n",
    "\n",
    "- CSS/00099/022\n",
    "- CSS/00072/022"
   ]
  },
  {
   "cell_type": "code",
   "execution_count": 1,
   "id": "a021e468-1f7f-4a0c-9899-841374841aab",
   "metadata": {},
   "outputs": [
    {
     "name": "stdout",
     "output_type": "stream",
     "text": [
      "Age Calculator\n"
     ]
    },
    {
     "name": "stdin",
     "output_type": "stream",
     "text": [
      "Please enter the names separated by commas (e.g. Shad, Mike, Emily):  oruko,mino,maiko\n",
      "Please enter their year of birth in respective order, separated by commas:  2002,2001,2003\n"
     ]
    },
    {
     "name": "stdout",
     "output_type": "stream",
     "text": [
      "oruko is 22 years old.\n",
      "mino is 23 years old.\n",
      "maiko is 21 years old.\n"
     ]
    }
   ],
   "source": [
    "\n",
    "from datetime import datetime\n",
    "\n",
    "current_year = datetime.now().year\n",
    "\n",
    "print(\"Age Calculator\")\n",
    "names = input(\"Please enter the names separated by commas (e.g. Shad, Mike, Emily): \")\n",
    "nameList = names.split(\",\") \n",
    "year_of_birth = input(\"Please enter their year of birth in respective order, separated by commas: \")\n",
    "year_of_birth_list = year_of_birth.split(\",\")  \n",
    "\n",
    "for i in range(len(nameList)):\n",
    "    name = nameList[i].strip() \n",
    "    birth_year = int(year_of_birth_list[i].strip()) \n",
    "    age = current_year - birth_year\n",
    "    print(f\"{name} is {age} years old.\")\n"
   ]
  },
  {
   "cell_type": "code",
   "execution_count": null,
   "id": "fffd6c15-2df2-479f-8ffd-74636becfea6",
   "metadata": {},
   "outputs": [],
   "source": [
    "shad, maiko, emily\n",
    "\n"
   ]
  }
 ],
 "metadata": {
  "kernelspec": {
   "display_name": "Python 3 (ipykernel)",
   "language": "python",
   "name": "python3"
  },
  "language_info": {
   "codemirror_mode": {
    "name": "ipython",
    "version": 3
   },
   "file_extension": ".py",
   "mimetype": "text/x-python",
   "name": "python",
   "nbconvert_exporter": "python",
   "pygments_lexer": "ipython3",
   "version": "3.12.4"
  }
 },
 "nbformat": 4,
 "nbformat_minor": 5
}
