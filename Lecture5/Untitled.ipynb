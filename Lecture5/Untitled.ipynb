{
 "cells": [
  {
   "cell_type": "code",
   "execution_count": 50,
   "id": "0b60f22e-19a0-420a-a3d0-5d0ca7a1b718",
   "metadata": {},
   "outputs": [
    {
     "name": "stdout",
     "output_type": "stream",
     "text": [
      "Student1:Marks [41 74 58 42 97]\n",
      "Student2:Marks [54 99 69 60 73]\n",
      "Student3:Marks [81 49 41 57 77]\n",
      "Student4:Marks [41 89 84 57 72]\n",
      "Student5:Marks [76 48 58 53 89]\n",
      "Student6:Marks [45 84 47 95 65]\n",
      "Student7:Marks [95 84 51 40 73]\n",
      "Student8:Marks [45 72 56 60 40]\n",
      "Student9:Marks [56 65 75 66 98]\n",
      "Student10:Marks [90 77 71 99 41]\n"
     ]
    }
   ],
   "source": [
    "import numpy as np\n",
    "import random\n",
    "stu_indexes= np.arange(1,11)\n",
    "stu_indexes\n",
    "stu_marks = np.random.randint(40,100,size=(10,5))\n",
    "for stu_index,stu_mark in zip(stu_indexes,stu_marks):\n",
    "    print(f\"Student{stu_index}:Marks {stu_mark}\")"
   ]
  },
  {
   "cell_type": "code",
   "execution_count": 49,
   "id": "39e24e52-2261-4f56-9564-882b145f4f61",
   "metadata": {},
   "outputs": [
    {
     "name": "stdout",
     "output_type": "stream",
     "text": [
      "{1: array([88, 43, 54, 40, 94]), 2: array([88, 43, 54, 40, 94]), 3: array([88, 43, 54, 40, 94]), 4: array([88, 43, 54, 40, 94]), 5: array([88, 43, 54, 40, 94]), 6: array([88, 43, 54, 40, 94]), 7: array([88, 43, 54, 40, 94]), 8: array([88, 43, 54, 40, 94]), 9: array([88, 43, 54, 40, 94]), 10: array([88, 43, 54, 40, 94])}\n"
     ]
    }
   ],
   "source": [
    "#student , marks\n",
    "#subject students\n",
    "\n",
    "\n",
    "my_dict={}\n",
    "\n",
    "for stu_index,stu_mark in zip(stu_indexes,stu_marks):\n",
    "    for i in stu_marks:\n",
    "        my_dict[stu_index]=stu_marks[0] \n",
    "\n",
    "print(my_dict)\n",
    "\n",
    "\n",
    "    "
   ]
  },
  {
   "cell_type": "code",
   "execution_count": null,
   "id": "b49c188a-a8ec-46aa-95e0-35f67a4ebabc",
   "metadata": {},
   "outputs": [],
   "source": []
  }
 ],
 "metadata": {
  "kernelspec": {
   "display_name": "Python 3 (ipykernel)",
   "language": "python",
   "name": "python3"
  },
  "language_info": {
   "codemirror_mode": {
    "name": "ipython",
    "version": 3
   },
   "file_extension": ".py",
   "mimetype": "text/x-python",
   "name": "python",
   "nbconvert_exporter": "python",
   "pygments_lexer": "ipython3",
   "version": "3.12.4"
  }
 },
 "nbformat": 4,
 "nbformat_minor": 5
}
