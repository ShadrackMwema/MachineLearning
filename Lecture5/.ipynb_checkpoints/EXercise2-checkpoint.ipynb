{
 "cells": [
  {
   "cell_type": "code",
   "execution_count": 2,
   "id": "740dfb70-1b4d-4aff-a94f-50572b156bf5",
   "metadata": {},
   "outputs": [
    {
     "name": "stdout",
     "output_type": "stream",
     "text": [
      "ai\n",
      "CCS331\n"
     ]
    }
   ],
   "source": [
    "#class case:\n",
    "#     name:string\n",
    "#     code:string\n",
    "\n",
    "# class student:\n",
    "#     names:s\n",
    "#     regno:s\n",
    "#     course:list\n",
    "\n",
    "#     Reg(Course) method under student take agrs calles course\n",
    "#         cdll course.name, course.code put it in tuple and store in course list\n",
    "#     create new courses,,reagisteer course, eg stu 1 2 courses, 2 3 courses \n",
    "class Course:\n",
    "    def __init__(self,name,code):\n",
    "        self.name=name\n",
    "        self.code=code\n",
    "\n",
    "course1 = Course(\"ai\",\"CCS331\")\n",
    "print(course1.name)\n",
    "print(course1.code)\n",
    "        \n",
    "class Student:\n",
    "    def _init_(self,name,Reg_no,courses):\n",
    "        self.name =name\n",
    "        self.Reg_no= Reg_no\n",
    "        self.courses"
   ]
  },
  {
   "cell_type": "code",
   "execution_count": null,
   "id": "aed54a91-8047-4df3-84fb-272e089f56ce",
   "metadata": {},
   "outputs": [],
   "source": []
  }
 ],
 "metadata": {
  "kernelspec": {
   "display_name": "Python 3 (ipykernel)",
   "language": "python",
   "name": "python3"
  },
  "language_info": {
   "codemirror_mode": {
    "name": "ipython",
    "version": 3
   },
   "file_extension": ".py",
   "mimetype": "text/x-python",
   "name": "python",
   "nbconvert_exporter": "python",
   "pygments_lexer": "ipython3",
   "version": "3.12.4"
  }
 },
 "nbformat": 4,
 "nbformat_minor": 5
}
