{
 "cells": [
  {
   "cell_type": "markdown",
   "id": "bbd64a09-9911-46c2-b176-f5b38e205cb8",
   "metadata": {},
   "source": [
    "# Admission Numbers\n",
    "\n",
    "- CSS/00099/022\n",
    "- CSS/00072/021"
   ]
  },
  {
   "cell_type": "code",
   "execution_count": 7,
   "id": "b895890f",
   "metadata": {},
   "outputs": [
    {
     "name": "stdout",
     "output_type": "stream",
     "text": [
      "[0, 1, 2, 3, 4, 5, 6, 7, 8, 9, 10, 11, 12, 13, 14, 15, 16, 17, 18, 19, 20, 21, 22, 23, 24, 25, 26, 27, 28, 29, 30, 31, 32, 33, 34, 35, 36, 37, 38, 39, 40, 41, 42, 43, 44, 45, 46, 47, 48, 49]\n",
      "[[ 0  1  2  3  4]\n",
      " [ 5  6  7  8  9]\n",
      " [10 11 12 13 14]\n",
      " [15 16 17 18 19]\n",
      " [20 21 22 23 24]\n",
      " [25 26 27 28 29]\n",
      " [30 31 32 33 34]\n",
      " [35 36 37 38 39]\n",
      " [40 41 42 43 44]\n",
      " [45 46 47 48 49]]\n",
      "Column averages: [22.5 23.5 24.5 25.5 26.5]\n",
      "Row averages: [ 2.  7. 12. 17. 22. 27. 32. 37. 42. 47.]\n"
     ]
    }
   ],
   "source": [
    "import numpy as np\n",
    "vector = [i for i in range(50)]\n",
    "matrix = np.array(vector).reshape(10,5)\n",
    "column_averages = np.mean(matrix, axis=0)\n",
    "row_averages = np.mean(matrix, axis=1)\n",
    "print(vector)\n",
    "print(matrix)\n",
    "print(\"Column averages:\", column_averages)\n",
    "print(\"Row averages:\", row_averages)"
   ]
  },
  {
   "cell_type": "code",
   "execution_count": 14,
   "id": "fd064ca1",
   "metadata": {},
   "outputs": [
    {
     "name": "stdout",
     "output_type": "stream",
     "text": [
      "[[ 0  1  2  3  4]\n",
      " [ 5  6  7  8  9]\n",
      " [10 11 12 13 14]\n",
      " [15 16 17 18 19]\n",
      " [20 21 22 23 24]\n",
      " [25 26 27 28 29]\n",
      " [30 31 32 33 34]\n",
      " [35 36 37 38 39]\n",
      " [40 41 42 43 44]\n",
      " [45 46 47 48 49]]\n"
     ]
    }
   ],
   "source": [
    "matrix = np.array(vector).reshape(10,5)\n",
    "print(matrix)"
   ]
  },
  {
   "cell_type": "code",
   "execution_count": 10,
   "id": "709c98b1",
   "metadata": {},
   "outputs": [
    {
     "name": "stdout",
     "output_type": "stream",
     "text": [
      "Column averages: [22.5 23.5 24.5 25.5 26.5]\n"
     ]
    }
   ],
   "source": [
    "column_averages = np.mean(matrix, axis=0)\n",
    "print(\"Column averages:\", column_averages)\n"
   ]
  },
  {
   "cell_type": "code",
   "execution_count": 12,
   "id": "bd358c84",
   "metadata": {},
   "outputs": [
    {
     "name": "stdout",
     "output_type": "stream",
     "text": [
      "Row averages: [ 2.  7. 12. 17. 22. 27. 32. 37. 42. 47.]\n"
     ]
    }
   ],
   "source": [
    "row_averages = np.mean(matrix, axis=1)\n",
    "print(\"Row averages:\", row_averages)"
   ]
  },
  {
   "cell_type": "code",
   "execution_count": 4,
   "id": "3f3459fe",
   "metadata": {},
   "outputs": [
    {
     "name": "stdout",
     "output_type": "stream",
     "text": [
      "Original Matrix:\n",
      "[[45 48 65 68 68]\n",
      " [10 84 22 37 88]\n",
      " [71 89 89 13 59]\n",
      " [66 40 88 47 89]\n",
      " [82 38 26 78 73]\n",
      " [10 21 81 70 80]\n",
      " [48 65 83 89 50]\n",
      " [30 20 20 15 40]\n",
      " [33 66 10 58 33]\n",
      " [32 75 24 36 76]]\n",
      "\n",
      "Modified Matrix (First column replaced):\n",
      "[[249  48  65  68  68]\n",
      " [231  84  22  37  88]\n",
      " [250  89  89  13  59]\n",
      " [264  40  88  47  89]\n",
      " [215  38  26  78  73]\n",
      " [252  21  81  70  80]\n",
      " [287  65  83  89  50]\n",
      " [ 95  20  20  15  40]\n",
      " [167  66  10  58  33]\n",
      " [211  75  24  36  76]]\n"
     ]
    }
   ],
   "source": [
    "import numpy as np\n",
    "\n",
    "# Create a 10x5 matrix with random values for demonstration\n",
    "np.random.seed(0)  # Seed for reproducibility\n",
    "matrix = np.random.randint(1, 100, size=(10, 5))\n",
    "\n",
    "print(\"Original Matrix:\")\n",
    "print(matrix)\n",
    "\n",
    "# Function to find the 4 highest values in the row, 2 from each side of the first column\n",
    "def replace_first_column(matrix):\n",
    "    for i in range(matrix.shape[0]):  # Iterate through each row\n",
    "        row = matrix[i, :]\n",
    "        \n",
    "        # Get values left and right of the first column\n",
    "        left_side = row[1:3]  # Values in the second and third column\n",
    "        right_side = row[3:5]  # Values in the fourth and fifth column\n",
    "\n",
    "        # Get the 4 highest values from left and right\n",
    "        highest_values = np.sort(np.concatenate((left_side, right_side)))[-4:]\n",
    "\n",
    "        # Replace the value in the first column with the sum of these highest values\n",
    "        matrix[i, 0] = np.sum(highest_values)\n",
    "        \n",
    "    return matrix\n",
    "\n",
    "# Apply the function to the matrix\n",
    "modified_matrix = replace_first_column(matrix)\n",
    "\n",
    "print(\"\\nModified Matrix (First column replaced):\")\n",
    "print(modified_matrix)\n",
    "\n"
   ]
  },
  {
   "cell_type": "code",
   "execution_count": 5,
   "id": "97b104e3",
   "metadata": {},
   "outputs": [],
   "source": [
    "import numpy as np\n",
    "np.mean?\n",
    "\n"
   ]
  },
  {
   "cell_type": "code",
   "execution_count": null,
   "id": "1a63c0c1",
   "metadata": {},
   "outputs": [],
   "source": []
  }
 ],
 "metadata": {
  "kernelspec": {
   "display_name": "Python 3 (ipykernel)",
   "language": "python",
   "name": "python3"
  },
  "language_info": {
   "codemirror_mode": {
    "name": "ipython",
    "version": 3
   },
   "file_extension": ".py",
   "mimetype": "text/x-python",
   "name": "python",
   "nbconvert_exporter": "python",
   "pygments_lexer": "ipython3",
   "version": "3.12.4"
  }
 },
 "nbformat": 4,
 "nbformat_minor": 5
}
