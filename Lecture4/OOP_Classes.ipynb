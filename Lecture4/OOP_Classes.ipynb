{
 "cells": [
  {
   "cell_type": "code",
   "execution_count": 23,
   "id": "703b6ed0-4c04-471e-99fe-0ddfb9ffc716",
   "metadata": {},
   "outputs": [],
   "source": [
    "#classes\n",
    "class Rocket:\n",
    "    def __init__(self,x=0,y=0):\n",
    "        self.x=x\n",
    "        self.y=y\n",
    "    def mult(self,w):\n",
    "        return self.x*self.y*w #right way\n",
    "        # return x*y\n",
    "    \n",
    "        \n",
    "\n",
    "rocket1 = Rocket(2,3)\n",
    "rocket2 = Rocket(4,6)\n",
    "rocket3 = Rocket()\n",
    "#rocket3.x          #At the point of init class, provide x and y values"
   ]
  },
  {
   "cell_type": "code",
   "execution_count": 22,
   "id": "5cc8e2d5-a31f-45bd-8e08-ed626d26b4df",
   "metadata": {},
   "outputs": [
    {
     "data": {
      "text/plain": [
       "96"
      ]
     },
     "execution_count": 22,
     "metadata": {},
     "output_type": "execute_result"
    }
   ],
   "source": [
    "rocket2.mult(w=4)"
   ]
  },
  {
   "cell_type": "code",
   "execution_count": null,
   "id": "2d47569d-7168-4016-9589-2955d70d10a2",
   "metadata": {},
   "outputs": [],
   "source": [
    "def _init(self,a=0, b=0):"
   ]
  }
 ],
 "metadata": {
  "kernelspec": {
   "display_name": "Python 3 (ipykernel)",
   "language": "python",
   "name": "python3"
  },
  "language_info": {
   "codemirror_mode": {
    "name": "ipython",
    "version": 3
   },
   "file_extension": ".py",
   "mimetype": "text/x-python",
   "name": "python",
   "nbconvert_exporter": "python",
   "pygments_lexer": "ipython3",
   "version": "3.12.4"
  }
 },
 "nbformat": 4,
 "nbformat_minor": 5
}
