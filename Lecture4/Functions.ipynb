{
 "cells": [
  {
   "cell_type": "code",
   "execution_count": 9,
   "id": "11c715e1-fd5a-4da2-875a-833a05757327",
   "metadata": {},
   "outputs": [
    {
     "name": "stdout",
     "output_type": "stream",
     "text": [
      "(2, 3, 4, 5, 52, 2)\n",
      "4\n"
     ]
    }
   ],
   "source": [
    "def add (*x):#means you have bunch of arguments\n",
    "    print(x)\n",
    "    print (x[2])\n",
    "add(2,3,4,5,52,2)#prints a tuple"
   ]
  },
  {
   "cell_type": "code",
   "execution_count": 8,
   "id": "49cfec77-cfed-4693-a1f1-c79ea68e8f4c",
   "metadata": {},
   "outputs": [
    {
     "name": "stdout",
     "output_type": "stream",
     "text": [
      "{'first_name': 'Lilian', 'second_name': 'Lilian'}\n"
     ]
    }
   ],
   "source": [
    "#Fuction with many arguments that are keywords\n",
    "def register(**names):\n",
    "    print(names)\n",
    "register(first_name=\"Lilian\",second_name=\"Lilian\")#prints a dictionary"
   ]
  },
  {
   "cell_type": "code",
   "execution_count": 15,
   "id": "14940906-5cfa-4b41-867b-76e58f7b9534",
   "metadata": {},
   "outputs": [
    {
     "name": "stdin",
     "output_type": "stream",
     "text": [
      "Enter a number 4\n"
     ]
    },
    {
     "name": "stdout",
     "output_type": "stream",
     "text": [
      "Less than 3\n"
     ]
    }
   ],
   "source": [
    "#A function to determine if no is divisible by 2 and return the reminder\n",
    "#If divisible by 2 do this else \n",
    "number = int(input(\"Enter a number\"))\n",
    "def divisible(x):\n",
    "    remainder = x%2\n",
    "    if remainder >3:\n",
    "        print(\"Greater then 3\")\n",
    "    else:\n",
    "        print(\"Less than 3\")\n",
    "        \n",
    "divisible(x=number)"
   ]
  },
  {
   "cell_type": "code",
   "execution_count": 37,
   "id": "0e4eb3ae-13e0-43db-8131-498fe49bd77b",
   "metadata": {},
   "outputs": [
    {
     "name": "stdout",
     "output_type": "stream",
     "text": [
      "88\n"
     ]
    }
   ],
   "source": [
    "#fun thatbtakes ina list of numbers , go over the list and find smallest or langest\n",
    "\n",
    "my_list = [88,37,81,65,8]\n",
    "\n",
    "\n",
    "def my_fun (x):\n",
    "    maxi = (max(x))\n",
    "    print(maxi)\n",
    "my_fun(x=my_list)"
   ]
  },
  {
   "cell_type": "code",
   "execution_count": 49,
   "id": "5751261a-608e-4359-b2e4-f05edd0d18d3",
   "metadata": {},
   "outputs": [
    {
     "name": "stdout",
     "output_type": "stream",
     "text": [
      "1\n",
      "3\n",
      "6\n",
      "10\n",
      "15\n",
      "21\n"
     ]
    },
    {
     "data": {
      "text/plain": [
       "21"
      ]
     },
     "execution_count": 49,
     "metadata": {},
     "output_type": "execute_result"
    }
   ],
   "source": [
    "#Recursion\n",
    "def recursion(x):\n",
    "    if(x>0):\n",
    "        result = x+recursion(x-1)\n",
    "        print(result)\n",
    "    else:\n",
    "        result =0\n",
    "    return result\n",
    "\n",
    "recursion(6) #stores intermidiate results first "
   ]
  },
  {
   "cell_type": "code",
   "execution_count": 76,
   "id": "137dff01-6b72-4a5e-a9ec-6706dadb1961",
   "metadata": {},
   "outputs": [
    {
     "name": "stdout",
     "output_type": "stream",
     "text": [
      "[0, 1, 1, 0, 0, 1, 1]\n",
      "[9, 9, 8, 6, 5, 5, 4]\n"
     ]
    }
   ],
   "source": [
    "#Recursion\n",
    "new_X=[]\n",
    "output=[]\n",
    "def recursion(x):\n",
    "\n",
    "    if(x<10):\n",
    "        y=recursion(x+1)%2\n",
    "        new_X.append(y)\n",
    "        \n",
    "        result = x+y\n",
    "        output.append(result)\n",
    "        \n",
    "    else:\n",
    "        result =10\n",
    "        \n",
    "    return result\n",
    "\n",
    "recursion(3)\n",
    "print(new_X)\n",
    "print(output)"
   ]
  },
  {
   "cell_type": "code",
   "execution_count": 80,
   "id": "e6368813-85c3-4e51-851f-ffed9f7e7e07",
   "metadata": {},
   "outputs": [
    {
     "name": "stdout",
     "output_type": "stream",
     "text": [
      "5 +1 6\n",
      "6 +1 7\n",
      "7 +1 8\n",
      "8 +1 9\n",
      "9 +1 10\n",
      "10 +1 11\n",
      "done\n"
     ]
    }
   ],
   "source": [
    "def rec(x):\n",
    "    print(x,\"+1\",x+1)\n",
    "    if x<10:\n",
    "        recursion=rec(x+1)\n",
    "        return recursion\n",
    "    else:\n",
    "        print(\"done\")\n",
    "rec(5)"
   ]
  },
  {
   "cell_type": "code",
   "execution_count": null,
   "id": "1e4d0345-39da-4ceb-9a2a-d583d9803b72",
   "metadata": {},
   "outputs": [],
   "source": []
  }
 ],
 "metadata": {
  "kernelspec": {
   "display_name": "Python 3 (ipykernel)",
   "language": "python",
   "name": "python3"
  },
  "language_info": {
   "codemirror_mode": {
    "name": "ipython",
    "version": 3
   },
   "file_extension": ".py",
   "mimetype": "text/x-python",
   "name": "python",
   "nbconvert_exporter": "python",
   "pygments_lexer": "ipython3",
   "version": "3.12.4"
  }
 },
 "nbformat": 4,
 "nbformat_minor": 5
}
